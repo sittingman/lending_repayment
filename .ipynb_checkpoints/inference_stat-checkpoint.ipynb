{
 "cells": [
  {
   "cell_type": "code",
   "execution_count": 1,
   "metadata": {},
   "outputs": [],
   "source": [
    "import pandas as pd\n",
    "import numpy as np\n",
    "from scipy import stats\n",
    "import matplotlib.pyplot as plt\n",
    "%matplotlib inline"
   ]
  },
  {
   "cell_type": "markdown",
   "metadata": {},
   "source": [
    "From the data exploratory exercise, we identified that loan purpose appears to have influence on the loans being paid off or not. To prove that the influence is statistically significant, we will run chi square test on it"
   ]
  },
  {
   "cell_type": "code",
   "execution_count": 2,
   "metadata": {},
   "outputs": [],
   "source": [
    "lend = pd.read_csv('data/lending_clean.csv')\n",
    "lend_2009on = lend[lend['loan_start_d'] >= '2009-01-01']"
   ]
  },
  {
   "cell_type": "markdown",
   "metadata": {},
   "source": [
    "Null Hypothesis - different loan purposes do not affect loan paid off rate\n",
    "\n",
    "Alternative Hypothesis - loan purposes affect paid off rate"
   ]
  },
  {
   "cell_type": "code",
   "execution_count": 3,
   "metadata": {},
   "outputs": [
    {
     "name": "stdout",
     "output_type": "stream",
     "text": [
      "target                 0      1    All  paid_off_rate\n",
      "purpose                                              \n",
      "car                  157   1391   1548      89.857881\n",
      "major_purchase       228   1982   2210      89.683258\n",
      "wedding               98    840    938      89.552239\n",
      "credit_card          539   4452   4991      89.200561\n",
      "home_improvement     379   2644   3023      87.462785\n",
      "All                 5777  33762  39539      85.389109\n",
      "vacation              58    324    382      84.816754\n",
      "debt_consolidation  2829  15764  18593      84.784596\n",
      "house                 64    328    392      83.673469\n",
      "other                653   3320   3973      83.564057\n",
      "moving                97    486    583      83.361921\n",
      "medical              116    577    693      83.261183\n",
      "educational           56    245    301      81.395349\n",
      "renewable_energy      20     83    103      80.582524\n",
      "small_business       483   1326   1809      73.300166\n"
     ]
    }
   ],
   "source": [
    "table = pd.crosstab(lend_2009on['purpose'], lend_2009on['target'], margins=True)\n",
    "table['paid_off_rate'] = table[1]/(table[1] + table[0])*100\n",
    "print(table.sort_values(by='paid_off_rate', ascending=False))"
   ]
  },
  {
   "cell_type": "code",
   "execution_count": 4,
   "metadata": {},
   "outputs": [
    {
     "name": "stdout",
     "output_type": "stream",
     "text": [
      "chi_statistic: 378.179\n",
      "p-value: 0.00\n",
      "degree of freedom: 14\n",
      "expected freq: \n",
      "                               0             1\n",
      "purpose                                      \n",
      "car                  226.176585   1321.823415\n",
      "credit_card          729.229546   4261.770454\n",
      "debt_consolidation  2716.602873  15876.397127\n",
      "educational           43.978780    257.021220\n",
      "home_improvement     441.687220   2581.312780\n",
      "house                 57.274691    334.725309\n",
      "major_purchase       322.900680   1887.099320\n",
      "medical              101.253471    591.746529\n",
      "moving                85.181492    497.818508\n",
      "other                580.490680   3392.509320\n",
      "renewable_energy      15.049217     87.950783\n",
      "small_business       264.311009   1544.688991\n",
      "vacation              55.813602    326.186398\n",
      "wedding              137.050153    800.949847\n",
      "All                 5777.000000  33762.000000\n"
     ]
    }
   ],
   "source": [
    "stat, p, dof, expected = stats.chi2_contingency(table[[0,1]])\n",
    "print ('chi_statistic: {:.3f}'.format(stat))\n",
    "print ('p-value: {:.2f}'.format(p))\n",
    "print ('degree of freedom: {:.0f}'.format(dof))\n",
    "print ('expected freq: \\n {}'.format(pd.DataFrame(expected, index=table.index)))"
   ]
  },
  {
   "cell_type": "code",
   "execution_count": 5,
   "metadata": {},
   "outputs": [
    {
     "name": "stdout",
     "output_type": "stream",
     "text": [
      "Dependent (reject H0)\n"
     ]
    }
   ],
   "source": [
    "# interpret p-value, using 95% confident level\n",
    "prob = 0.95\n",
    "alpha = 1.0 - prob\n",
    "if p <= alpha:\n",
    "    print('Dependent (reject H0)')\n",
    "else:\n",
    "    print('Independent (fail to reject H0)')"
   ]
  },
  {
   "cell_type": "markdown",
   "metadata": {},
   "source": [
    "Conclude that loan_purpose has impact on the loan paid off rates"
   ]
  },
  {
   "cell_type": "markdown",
   "metadata": {},
   "source": [
    "Additionally, the following attributes will be test as well per exploratory analysis\n",
    "\n",
    "- Credit history\n",
    "- DTI\n",
    "- Number of credit lines \n",
    "- state of the applicants"
   ]
  },
  {
   "cell_type": "code",
   "execution_count": 6,
   "metadata": {},
   "outputs": [],
   "source": [
    "# write a function to streamline the testing steps\n",
    "def chi_square(data):\n",
    "    table = pd.crosstab(lend_2009on[data], lend_2009on['target'])\n",
    "    table['paid_off_rate'] = table[1]/(table[1] + table[0])*100\n",
    "    stat, p, dof, expected = stats.chi2_contingency(table[[0,1]])\n",
    "    print ('chi_statistic: {:.3f}'.format(stat))\n",
    "    print ('p-value: {:.2f}'.format(p))\n",
    "    print ('degree of freedom: {:.0f}'.format(dof))\n",
    "    prob = 0.95\n",
    "    alpha = 1.0 - prob\n",
    "    if p <= alpha:\n",
    "        print('Dependent (reject H0)')\n",
    "    else:\n",
    "        print('Independent (fail to reject H0)')"
   ]
  },
  {
   "cell_type": "code",
   "execution_count": 7,
   "metadata": {},
   "outputs": [
    {
     "name": "stdout",
     "output_type": "stream",
     "text": [
      "chi_statistic: 112.650\n",
      "p-value: 0.00\n",
      "degree of freedom: 52\n",
      "Dependent (reject H0)\n"
     ]
    }
   ],
   "source": [
    "# Credit history\n",
    "chi_square('yr_credit')"
   ]
  },
  {
   "cell_type": "code",
   "execution_count": 8,
   "metadata": {},
   "outputs": [],
   "source": [
    "yr_credit_chi = pd.crosstab(lend_2009on['yr_credit'], lend_2009on['target'])"
   ]
  },
  {
   "cell_type": "code",
   "execution_count": 9,
   "metadata": {},
   "outputs": [],
   "source": [
    "bins = [0, 5, 10, 15, 20, 30, 40 , 100]\n",
    "yr_credit_table = lend_2009on.copy()\n",
    "yr_credit_table['binned'] = pd.cut(yr_credit_table['yr_credit'], bins=bins)"
   ]
  },
  {
   "cell_type": "code",
   "execution_count": 10,
   "metadata": {},
   "outputs": [
    {
     "name": "stdout",
     "output_type": "stream",
     "text": [
      "target        0      1   paid_off\n",
      "binned                           \n",
      "(20, 30]    419   1719  80.402245\n",
      "(10, 15]   1345   8189  85.892595\n",
      "(5, 10]    2077  11644  84.862619\n",
      "(0, 5]     1067   6557  86.004722\n",
      "(15, 20]    709   4611  86.672932\n",
      "(30, 40]    134    893  86.952288\n",
      "(40, 100]    26    149  85.142857\n"
     ]
    }
   ],
   "source": [
    "table_cre = pd.crosstab(yr_credit_table['binned'], yr_credit_table['target'])\n",
    "table_cre['paid_off'] = table_cre[1]/(table_cre[0]+table_cre[1])*100\n",
    "print(table_cre)"
   ]
  },
  {
   "cell_type": "code",
   "execution_count": 11,
   "metadata": {},
   "outputs": [
    {
     "data": {
      "image/png": "[encoded data removed]",
      "text/plain": [
       "<Figure size 432x288 with 1 Axes>"
      ]
     },
     "metadata": {},
     "output_type": "display_data"
    }
   ],
   "source": [
    "table_cre['paid_off'].plot(kind='bar');\n",
    "# check if the data make sense for the 50+ years"
   ]
  },
  {
   "cell_type": "code",
   "execution_count": 12,
   "metadata": {},
   "outputs": [
    {
     "name": "stdout",
     "output_type": "stream",
     "text": [
      "chi_statistic: 58.967\n",
      "p-value: 0.00\n",
      "degree of freedom: 6\n",
      "expected freq: \n",
      "                      0             1\n",
      "binned                              \n",
      "(20, 30]    312.380839   1825.619161\n",
      "(10, 15]   1393.002302   8140.997698\n",
      "(5, 10]    2004.760287  11716.239713\n",
      "(0, 5]     1113.934293   6510.065707\n",
      "(15, 20]    777.299375   4542.700625\n",
      "(30, 40]    150.053846    876.946154\n",
      "(40, 100]    25.569058    149.430942\n",
      "Dependent (reject H0)\n"
     ]
    }
   ],
   "source": [
    "stat, p, dof, expected = stats.chi2_contingency(table_cre[[0,1]])\n",
    "print ('chi_statistic: {:.3f}'.format(stat))\n",
    "print ('p-value: {:.2f}'.format(p))\n",
    "print ('degree of freedom: {:.0f}'.format(dof))\n",
    "print ('expected freq: \\n {}'.format(pd.DataFrame(expected, index=table_cre.index)))\n",
    "prob = 0.95\n",
    "alpha = 1.0 - prob\n",
    "if p <= alpha:\n",
    "    print('Dependent (reject H0)')\n",
    "else:\n",
    "    print('Independent (fail to reject H0)')"
   ]
  },
  {
   "cell_type": "code",
   "execution_count": 13,
   "metadata": {},
   "outputs": [
    {
     "name": "stdout",
     "output_type": "stream",
     "text": [
      "chi_statistic: 2886.172\n",
      "p-value: 0.39\n",
      "degree of freedom: 2866\n",
      "Independent (fail to reject H0)\n"
     ]
    }
   ],
   "source": [
    "# DTI\n",
    "chi_square('dti')"
   ]
  },
  {
   "cell_type": "code",
   "execution_count": 14,
   "metadata": {},
   "outputs": [
    {
     "name": "stdout",
     "output_type": "stream",
     "text": [
      "target       0     1   paid_off\n",
      "binned                         \n",
      "(20, 30]   601  4222  87.538876\n",
      "(0, 5]    1005  6942  87.353718\n",
      "(5, 10]   1444  8371  85.287825\n",
      "(15, 20]  1437  7730  84.324206\n",
      "(10, 15]  1261  6361  83.455786\n"
     ]
    },
    {
     "data": {
      "image/png": "[encoded data removed]",
      "text/plain": [
       "<Figure size 432x288 with 1 Axes>"
      ]
     },
     "metadata": {},
     "output_type": "display_data"
    }
   ],
   "source": [
    "bins = [0, 5, 10, 15, 20, 30, 40]\n",
    "dti_table = lend_2009on.copy()\n",
    "dti_table['binned'] = pd.cut(dti_table['dti'], bins=bins)\n",
    "table_dti = pd.crosstab(dti_table['binned'], dti_table['target'])\n",
    "table_dti['paid_off'] = table_dti[1]/(table_dti[0]+table_dti[1])*100\n",
    "print(table_dti)\n",
    "table_dti['paid_off'].plot(kind='bar');"
   ]
  },
  {
   "cell_type": "code",
   "execution_count": 15,
   "metadata": {},
   "outputs": [
    {
     "name": "stdout",
     "output_type": "stream",
     "text": [
      "chi_statistic: 73.746\n",
      "p-value: 0.00\n",
      "degree of freedom: 4\n",
      "expected freq: \n",
      "                     0            1\n",
      "binned                            \n",
      "(20, 30]   704.084015  4118.915985\n",
      "(0, 5]    1160.140092  6786.859908\n",
      "(5, 10]   1432.839437  8382.160563\n",
      "(15, 20]  1338.241378  7828.758622\n",
      "(10, 15]  1112.695078  6509.304922\n",
      "Dependent (reject H0)\n"
     ]
    }
   ],
   "source": [
    "stat, p, dof, expected = stats.chi2_contingency(table_dti[[0,1]])\n",
    "print ('chi_statistic: {:.3f}'.format(stat))\n",
    "print ('p-value: {:.2f}'.format(p))\n",
    "print ('degree of freedom: {:.0f}'.format(dof))\n",
    "print ('expected freq: \\n {}'.format(pd.DataFrame(expected, index=table_dti.index)))\n",
    "prob = 0.95\n",
    "alpha = 1.0 - prob\n",
    "if p <= alpha:\n",
    "    print('Dependent (reject H0)')\n",
    "else:\n",
    "    print('Independent (fail to reject H0)')"
   ]
  },
  {
   "cell_type": "code",
   "execution_count": 16,
   "metadata": {},
   "outputs": [
    {
     "name": "stdout",
     "output_type": "stream",
     "text": [
      "chi_statistic: 150.631\n",
      "p-value: 0.00\n",
      "degree of freedom: 80\n",
      "Dependent (reject H0)\n"
     ]
    }
   ],
   "source": [
    "# number of credit line\n",
    "chi_square('total_acc')"
   ]
  },
  {
   "cell_type": "code",
   "execution_count": 17,
   "metadata": {},
   "outputs": [
    {
     "name": "stdout",
     "output_type": "stream",
     "text": [
      "target        0     1   paid_off\n",
      "binned                          \n",
      "(5, 10]     215   927  81.173380\n",
      "(0, 5]      787  3895  83.190944\n",
      "(30, 40]   1034  5750  84.758255\n",
      "(10, 15]   1002  6026  85.742743\n",
      "(20, 30]   1528  9741  86.440678\n",
      "(40, 60]    804  4932  85.983264\n",
      "(15, 20]    377  2296  85.895997\n",
      "(60, 100]    30   195  86.666667\n"
     ]
    },
    {
     "data": {
      "image/png": "[encoded data removed]",
      "text/plain": [
       "<Figure size 432x288 with 1 Axes>"
      ]
     },
     "metadata": {},
     "output_type": "display_data"
    }
   ],
   "source": [
    "bins = [0, 5, 10, 15, 20, 30, 40, 60, 100]\n",
    "ttl_acc_table = lend_2009on.copy()\n",
    "ttl_acc_table['binned'] = pd.cut(ttl_acc_table['total_acc'], bins=bins)\n",
    "table_ttl_acc = pd.crosstab(ttl_acc_table['binned'], ttl_acc_table['target'])\n",
    "table_ttl_acc['paid_off'] = table_ttl_acc[1]/(table_ttl_acc[0]+table_ttl_acc[1])*100\n",
    "print(table_ttl_acc)\n",
    "table_ttl_acc['paid_off'].plot(kind='bar');"
   ]
  },
  {
   "cell_type": "code",
   "execution_count": 18,
   "metadata": {},
   "outputs": [
    {
     "name": "stdout",
     "output_type": "stream",
     "text": [
      "chi_statistic: 128.067\n",
      "p-value: 0.00\n",
      "degree of freedom: 45\n",
      "Dependent (reject H0)\n",
      "target         0      1    All  paid_off_rate\n",
      "addr_state                                   \n",
      "TN             0      1      1     100.000000\n",
      "IA             0      1      1     100.000000\n",
      "WY             4     81     85      95.294118\n",
      "DC            13    199    212      93.867925\n",
      "DE            13    114    127      89.763780\n",
      "CO            94    678    772      87.823834\n",
      "AL            56    399    455      87.692308\n",
      "KS            33    234    267      87.640449\n",
      "AR            31    219    250      87.600000\n",
      "WV            23    162    185      87.567568\n",
      "TX           345   2395   2740      87.408759\n",
      "CT            96    666    762      87.401575\n",
      "MA           169   1152   1321      87.206662\n",
      "LA            56    378    434      87.096774\n",
      "VA           179   1197   1376      86.991279\n",
      "RI            25    167    192      86.979167\n",
      "NY           503   3283   3786      86.714210\n",
      "OH           167   1085   1252      86.661342\n",
      "PA           210   1358   1568      86.607143\n",
      "VT             7     45     52      86.538462\n",
      "IL           213   1361   1574      86.467598\n",
      "OK            42    260    302      86.092715\n",
      "NH            24    147    171      85.964912\n",
      "AZ           122    744    866      85.912240\n",
      "MN            87    527    614      85.830619\n",
      "SC            66    396    462      85.714286\n",
      "MS             2     12     14      85.714286\n",
      "NC           108    643    751      85.619174\n",
      "MT            12     71     83      85.542169\n",
      "All         5777  33762  39539      85.389109\n",
      "UT            38    212    250      84.800000\n",
      "MI           113    630    743      84.791386\n",
      "GA           210   1161   1371      84.682713\n",
      "KY            53    291    344      84.593023\n",
      "NJ           285   1563   1848      84.577922\n",
      "WI            74    402    476      84.453782\n",
      "MD           163    877   1040      84.326923\n",
      "WA           130    697    827      84.280532\n",
      "CA          1118   5848   6966      83.950617\n",
      "HI            28    142    170      83.529412\n",
      "OR            73    369    442      83.484163\n",
      "NM            32    154    186      82.795699\n",
      "FL           495   2362   2857      82.674134\n",
      "MO           125    580    705      82.269504\n",
      "AK            16     65     81      80.246914\n",
      "SD            13     49     62      79.032258\n",
      "NV           111    385    496      77.620968\n"
     ]
    }
   ],
   "source": [
    "# state of the applicants\n",
    "chi_square('addr_state')\n",
    "table_state = pd.crosstab(lend_2009on['addr_state'], lend_2009on['target'], margins=True)\n",
    "table_state['paid_off_rate'] = table_state[1]/(table_state[1] + table_state[0])*100\n",
    "print(table_state.sort_values(by='paid_off_rate', ascending=False))"
   ]
  },
  {
   "cell_type": "markdown",
   "metadata": {},
   "source": [
    "Notice that TN and IA have 100% paid off rate, but they only have 1 records each, hence we don't have big enough sample to conclude that all applicants from both states will always repay their loans"
   ]
  },
  {
   "cell_type": "markdown",
   "metadata": {},
   "source": [
    "#### Conclusion\n",
    "Credit history, number of credit lines, and state of applicants have impact on the loan paid off rates. DTI initially does not show impact to the loan paid off rate when test at individual level, but when group them by bins, it indicates correlation to the paid off rate."
   ]
  },
  {
   "cell_type": "code",
   "execution_count": null,
   "metadata": {},
   "outputs": [],
   "source": []
  }
 ],
 "metadata": {
  "kernelspec": {
   "display_name": "Python 3",
   "language": "python",
   "name": "python3"
  },
  "language_info": {
   "codemirror_mode": {
    "name": "ipython",
    "version": 3
   },
   "file_extension": ".py",
   "mimetype": "text/x-python",
   "name": "python",
   "nbconvert_exporter": "python",
   "pygments_lexer": "ipython3",
   "version": "3.6.5"
  }
 },
 "nbformat": 4,
 "nbformat_minor": 2
}
