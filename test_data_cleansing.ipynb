{
 "cells": [
  {
   "cell_type": "code",
   "execution_count": 1,
   "metadata": {},
   "outputs": [],
   "source": [
    "# Initial setup by importing needed modules\n",
    "import pandas as pd\n",
    "import numpy as np\n",
    "import datetime as dt"
   ]
  },
  {
   "cell_type": "code",
   "execution_count": 2,
   "metadata": {},
   "outputs": [],
   "source": [
    "test = pd.read_csv('data/LoanStats3b.csv', header=1, low_memory=False)"
   ]
  },
  {
   "cell_type": "code",
   "execution_count": 3,
   "metadata": {},
   "outputs": [],
   "source": [
    "# repeat all the data wrangling steps\n",
    "test_drop = test.dropna(axis=1, how='all', thresh=40000).dropna(subset=['loan_amnt'])\n",
    "test_drop.select_dtypes(include='float').fillna(0);\n",
    "test_drop = test_drop.assign(loan_start_d=pd.to_datetime(test_drop.issue_d, format='%b-%Y'))\n",
    "test_drop['yr_emp'] = test_drop['emp_length'].str[0:2].replace('< ',0).astype('float')\n",
    "test_drop.earliest_cr_line = pd.to_datetime(test_drop.earliest_cr_line, format='%b-%Y')\n",
    "test_drop['yr_credit']= (2013-test_drop.earliest_cr_line.dt.year).fillna(0)\n",
    "test_drop['revol_util_dec'] = test_drop['revol_util'].str.replace(r'%',r'0').astype('float')/100\n",
    "loan_dict = {'Fully Paid': 1, 'Charged Off': 0, 'Does not meet the credit policy. Status:Fully Paid': 1, 'Does not meet the credit policy. Status:Charged Off': 0 }\n",
    "test_drop = test_drop.assign(target=test_drop.loan_status.map(loan_dict))"
   ]
  },
  {
   "cell_type": "code",
   "execution_count": 4,
   "metadata": {},
   "outputs": [],
   "source": [
    "# capturing the needed features for machine learning validations\n",
    "test_ml = test_drop[['purpose', 'yr_credit', 'dti', 'revol_util_dec', 'total_acc', 'addr_state', 'target']]"
   ]
  },
  {
   "cell_type": "code",
   "execution_count": 5,
   "metadata": {},
   "outputs": [
    {
     "name": "stdout",
     "output_type": "stream",
     "text": [
      "                   purpose  yr_credit    dti  revol_util_dec  total_acc  \\\n",
      "0       debt_consolidation         24  15.55           0.444       22.0   \n",
      "1       debt_consolidation         15  16.73           0.545       41.0   \n",
      "2       debt_consolidation         22  15.75           0.346       16.0   \n",
      "3       debt_consolidation         19  18.55           0.546       31.0   \n",
      "4       debt_consolidation         14  27.06           0.709       17.0   \n",
      "5         home_improvement         18   2.49           0.161        8.0   \n",
      "6       debt_consolidation         27  22.87           0.612       27.0   \n",
      "7       debt_consolidation          3   8.40           7.200        5.0   \n",
      "8       debt_consolidation         19  14.05           0.216       22.0   \n",
      "9       debt_consolidation         16  13.03           6.700       19.0   \n",
      "10      debt_consolidation          4   4.62           2.400       18.0   \n",
      "11             credit_card         24  22.18           0.767       39.0   \n",
      "12      debt_consolidation         15  16.51           0.742       29.0   \n",
      "13      debt_consolidation         21   6.15           0.223       16.0   \n",
      "14                   other         12   3.73           0.662       12.0   \n",
      "15      debt_consolidation          6  25.12           0.528       28.0   \n",
      "16      debt_consolidation         24  23.13           0.828       24.0   \n",
      "17      debt_consolidation         22  24.68           0.542       26.0   \n",
      "18      debt_consolidation         25  10.02           0.819       14.0   \n",
      "19      debt_consolidation         15  16.94           0.688       32.0   \n",
      "20      debt_consolidation         10  12.61           0.557       30.0   \n",
      "21      debt_consolidation         20  13.68           0.582       36.0   \n",
      "22      debt_consolidation         13   5.71           0.909       18.0   \n",
      "23             credit_card         25  18.51           0.882       41.0   \n",
      "24             credit_card         29   5.04           0.765       51.0   \n",
      "25      debt_consolidation         14   2.69           0.012       30.0   \n",
      "26      debt_consolidation         29  26.49           0.734       39.0   \n",
      "27      debt_consolidation          9  27.03           0.469       22.0   \n",
      "28      debt_consolidation         15   7.39           0.103       19.0   \n",
      "29      debt_consolidation         24  22.99           0.913       10.0   \n",
      "...                    ...        ...    ...             ...        ...   \n",
      "188151      small_business          9   8.50           0.802       15.0   \n",
      "188152         credit_card         13  12.69           0.324       18.0   \n",
      "188153      small_business         16  17.34           0.819       11.0   \n",
      "188154  debt_consolidation         25  18.75           0.748       31.0   \n",
      "188155         credit_card         26  25.13           0.185       15.0   \n",
      "188156  debt_consolidation         42  25.99           0.338       35.0   \n",
      "188157             wedding         14   8.07           0.033       17.0   \n",
      "188158         credit_card         19  26.20           0.814       18.0   \n",
      "188159  debt_consolidation         14  17.13           0.572       24.0   \n",
      "188160         credit_card          9   6.03           0.775       11.0   \n",
      "188161         credit_card         18  12.52           0.491       14.0   \n",
      "188162         credit_card         48  14.80           0.542       18.0   \n",
      "188163         credit_card         12  11.28           0.466       14.0   \n",
      "188164         credit_card         25   8.20           9.900       11.0   \n",
      "188165  debt_consolidation          8  15.31           0.649       16.0   \n",
      "188166  debt_consolidation          9  18.43           0.399       12.0   \n",
      "188167               house         18   0.24           0.145       31.0   \n",
      "188168  debt_consolidation         15  13.84           0.984       13.0   \n",
      "188169  debt_consolidation         16  17.57           0.732       41.0   \n",
      "188170  debt_consolidation         11  24.78           0.763       23.0   \n",
      "188171  debt_consolidation         18  17.37           0.611       48.0   \n",
      "188172  debt_consolidation         25  17.46           0.834       17.0   \n",
      "188173                 car          9  17.61           0.713       10.0   \n",
      "188174  debt_consolidation         19  16.64           0.843       26.0   \n",
      "188175         credit_card         12   9.83           0.523       14.0   \n",
      "188176  debt_consolidation         25  16.40           0.584       20.0   \n",
      "188177      small_business          9   8.35           0.331       30.0   \n",
      "188178      small_business         13   4.90           0.624       17.0   \n",
      "188179               other         12  12.93           0.932       27.0   \n",
      "188180         credit_card         10   5.50           0.379       25.0   \n",
      "\n",
      "       addr_state  target  \n",
      "0              MA     1.0  \n",
      "1              NY     1.0  \n",
      "2              CO     0.0  \n",
      "3              CA     1.0  \n",
      "4              CA     1.0  \n",
      "5              TX     1.0  \n",
      "6              MI     1.0  \n",
      "7              CA     1.0  \n",
      "8              CT     1.0  \n",
      "9              CO     1.0  \n",
      "10             NC     1.0  \n",
      "11             MI     1.0  \n",
      "12             FL     1.0  \n",
      "13             NY     1.0  \n",
      "14             NY     1.0  \n",
      "15             CA     1.0  \n",
      "16             CO     0.0  \n",
      "17             FL     1.0  \n",
      "18             NC     1.0  \n",
      "19             NM     1.0  \n",
      "20             TX     1.0  \n",
      "21             IN     1.0  \n",
      "22             CA     1.0  \n",
      "23             TX     0.0  \n",
      "24             CT     1.0  \n",
      "25             SC     1.0  \n",
      "26             TX     1.0  \n",
      "27             NY     0.0  \n",
      "28             MA     1.0  \n",
      "29             TX     1.0  \n",
      "...           ...     ...  \n",
      "188151         TX     1.0  \n",
      "188152         WA     1.0  \n",
      "188153         FL     1.0  \n",
      "188154         FL     1.0  \n",
      "188155         PA     1.0  \n",
      "188156         MT     1.0  \n",
      "188157         PA     1.0  \n",
      "188158         TX     1.0  \n",
      "188159         RI     1.0  \n",
      "188160         NY     1.0  \n",
      "188161         MO     1.0  \n",
      "188162         MD     1.0  \n",
      "188163         DE     1.0  \n",
      "188164         NV     1.0  \n",
      "188165         NY     1.0  \n",
      "188166         NJ     1.0  \n",
      "188167         NY     1.0  \n",
      "188168         CA     1.0  \n",
      "188169         TX     1.0  \n",
      "188170         WA     0.0  \n",
      "188171         AL     0.0  \n",
      "188172         NY     1.0  \n",
      "188173         CA     1.0  \n",
      "188174         WI     1.0  \n",
      "188175         IL     1.0  \n",
      "188176         NY     1.0  \n",
      "188177         CA     1.0  \n",
      "188178         CA     1.0  \n",
      "188179         TX     0.0  \n",
      "188180         VA     1.0  \n",
      "\n",
      "[188181 rows x 7 columns]\n"
     ]
    }
   ],
   "source": [
    "# data transformation to match training data setting\n",
    "purpose = pd.get_dummies(test_ml['purpose'], drop_first=True)\n",
    "print(test_ml)"
   ]
  },
  {
   "cell_type": "code",
   "execution_count": 6,
   "metadata": {},
   "outputs": [],
   "source": [
    "# SML = pd.read_csv('data/SML.csv', header=1)\n",
    "# SML_1 = SML.iloc[:,0].values.tolist()\n",
    "# test_ml['helper_col'] = test_ml['addr_state'].isin(SML) #this serves as helper column only and will be drop later"
   ]
  },
  {
   "cell_type": "code",
   "execution_count": 7,
   "metadata": {},
   "outputs": [],
   "source": [
    "# # test_ml['state'] = np.where(test_ml.helper_col == 1, 'SML', test_ml.addr_state)\n",
    "# state = pd.get_dummies(test_ml['state'], drop_first = True)\n",
    "# test_ml = pd.concat([lend, state], axis=1)"
   ]
  },
  {
   "cell_type": "code",
   "execution_count": 8,
   "metadata": {},
   "outputs": [],
   "source": [
    "# export to a csv file \n",
    "test_ml.to_csv('data/lending_test.csv', index=False)"
   ]
  },
  {
   "cell_type": "code",
   "execution_count": null,
   "metadata": {},
   "outputs": [],
   "source": []
  }
 ],
 "metadata": {
  "kernelspec": {
   "display_name": "Python 3",
   "language": "python",
   "name": "python3"
  },
  "language_info": {
   "codemirror_mode": {
    "name": "ipython",
    "version": 3
   },
   "file_extension": ".py",
   "mimetype": "text/x-python",
   "name": "python",
   "nbconvert_exporter": "python",
   "pygments_lexer": "ipython3",
   "version": "3.7.3"
  }
 },
 "nbformat": 4,
 "nbformat_minor": 2
}
