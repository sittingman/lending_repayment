{
 "cells": [
  {
   "cell_type": "code",
   "execution_count": 1,
   "metadata": {},
   "outputs": [],
   "source": [
    "# Initial setup by importing needed modules\n",
    "import pandas as pd\n",
    "import numpy as np\n",
    "import datetime as dt"
   ]
  },
  {
   "cell_type": "code",
   "execution_count": 2,
   "metadata": {},
   "outputs": [],
   "source": [
    "test = pd.read_csv('data/LoanStats3b.csv', header=1, low_memory=False)"
   ]
  },
  {
   "cell_type": "code",
   "execution_count": 3,
   "metadata": {},
   "outputs": [],
   "source": [
    "# repeat all the data wrangling steps\n",
    "test_drop = test.dropna(axis=1, how='all', thresh=40000).dropna(subset=['loan_amnt'])\n",
    "test_drop.select_dtypes(include='float').fillna(0);\n",
    "test_drop = test_drop.assign(loan_start_d=pd.to_datetime(test_drop.issue_d, format='%b-%Y'))\n",
    "test_drop['yr_emp'] = test_drop['emp_length'].str[0:2].replace('< ',0).astype('float')\n",
    "test_drop.earliest_cr_line = pd.to_datetime(test_drop.earliest_cr_line, format='%b-%Y')\n",
    "test_drop['yr_credit']= (2013-test_drop.earliest_cr_line.dt.year).fillna(0)\n",
    "test_drop['revol_util_dec'] = test_drop['revol_util'].str.replace(r'%',r'0').astype('float')/100\n",
    "loan_dict = {'Fully Paid': 1, 'Charged Off': 0, 'Does not meet the credit policy. Status:Fully Paid': 1, 'Does not meet the credit policy. Status:Charged Off': 0 }\n",
    "test_drop = test_drop.assign(target=test_drop.loan_status.map(loan_dict))"
   ]
  },
  {
   "cell_type": "code",
   "execution_count": 4,
   "metadata": {},
   "outputs": [],
   "source": [
    "# capturing the needed features for machine learning validations\n",
    "test_ml = test_drop[['purpose', 'yr_credit', 'dti', 'revol_util_dec', 'total_acc', 'addr_state', 'target']]"
   ]
  },
  {
   "cell_type": "code",
   "execution_count": 5,
   "metadata": {},
   "outputs": [],
   "source": [
    "# data transformation to match training data setting\n",
    "purpose_ml = pd.get_dummies(test_ml['purpose'], drop_first=True)\n",
    "test_ml = pd.concat([test_ml, purpose_ml], axis=1)"
   ]
  },
  {
   "cell_type": "code",
   "execution_count": 6,
   "metadata": {},
   "outputs": [],
   "source": [
    "# Get the list formed by the train set to ensure consistence on states that fall under 'SML'\n",
    "SML = pd.read_csv('data/SML.csv', header=0)\n",
    "SML.columns = ['state']\n",
    "SML_list = SML.state.tolist()\n",
    "test_ml['helper_col'] = test_ml['addr_state'].isin(SML_list)\n",
    "test_ml['state'] = np.where(test_ml.helper_col == 1, 'SML', test_ml.addr_state)"
   ]
  },
  {
   "cell_type": "code",
   "execution_count": 7,
   "metadata": {},
   "outputs": [],
   "source": [
    "state = pd.get_dummies(test_ml['state'], drop_first = True)\n",
    "test_ml = pd.concat([test_ml, state], axis=1)"
   ]
  },
  {
   "cell_type": "code",
   "execution_count": 8,
   "metadata": {},
   "outputs": [],
   "source": [
    "def dti(data):\n",
    "    if data['dti'] <= 5: return 5\n",
    "    elif (data['dti'] > 5) & (data['dti'] <=10) : return 10\n",
    "    elif (data['dti'] > 10) & (data['dti'] <=15) : return 15\n",
    "    elif (data['dti'] > 15) & (data['dti'] <=20) : return 20\n",
    "    elif (data['dti'] > 20) & (data['dti'] <=30) : return 30\n",
    "    else: return 40\n",
    "    \n",
    "test_ml['dti_gp'] = test_ml.apply(dti, axis=1)\n",
    "dti_gp = pd.get_dummies(test_ml['dti_gp'])\n",
    "test_ml = pd.concat([test_ml, dti_gp], axis = 1)"
   ]
  },
  {
   "cell_type": "code",
   "execution_count": 9,
   "metadata": {},
   "outputs": [],
   "source": [
    "test_ml['revol'] = test_ml['revol_util_dec'].fillna(0)"
   ]
  },
  {
   "cell_type": "code",
   "execution_count": 10,
   "metadata": {},
   "outputs": [],
   "source": [
    "test_ml_fin = test_ml.drop(['addr_state', 'helper_col', 'dti_gp', 'state', 'dti', 'purpose', 'revol_util_dec'], axis=1)"
   ]
  },
  {
   "cell_type": "code",
   "execution_count": 11,
   "metadata": {},
   "outputs": [],
   "source": [
    "# export to a csv file \n",
    "test_ml_fin.to_csv('data/lending_test.csv', index=False)"
   ]
  }
 ],
 "metadata": {
  "kernelspec": {
   "display_name": "Python 3",
   "language": "python",
   "name": "python3"
  },
  "language_info": {
   "codemirror_mode": {
    "name": "ipython",
    "version": 3
   },
   "file_extension": ".py",
   "mimetype": "text/x-python",
   "name": "python",
   "nbconvert_exporter": "python",
   "pygments_lexer": "ipython3",
   "version": "3.7.3"
  }
 },
 "nbformat": 4,
 "nbformat_minor": 2
}
