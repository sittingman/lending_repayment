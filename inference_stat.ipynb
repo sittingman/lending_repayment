{
 "cells": [
  {
   "cell_type": "code",
   "execution_count": 1,
   "metadata": {},
   "outputs": [],
   "source": [
    "import pandas as pd\n",
    "import numpy as np\n",
    "from scipy import stats"
   ]
  },
  {
   "cell_type": "markdown",
   "metadata": {},
   "source": [
    "From the data exploratory exercise, we identified that loan purpose appears to have influence on the loans being paid off or not. To prove that the influence is statistically significant, we will run chi square test on it"
   ]
  },
  {
   "cell_type": "code",
   "execution_count": 2,
   "metadata": {},
   "outputs": [],
   "source": [
    "lend = pd.read_csv('data/lending_clean.csv')\n",
    "lend_2009on = lend[lend['loan_start_d'] >= '2009-01-01']"
   ]
  },
  {
   "cell_type": "markdown",
   "metadata": {},
   "source": [
    "Null Hypothesis - different loan purposes do not affect loan paid off rate\n",
    "\n",
    "Alternative Hypothesis - loan purposes affect paid off rate"
   ]
  },
  {
   "cell_type": "code",
   "execution_count": 3,
   "metadata": {},
   "outputs": [
    {
     "name": "stdout",
     "output_type": "stream",
     "text": [
      "purpose\n",
      "small_business        0.27\n",
      "renewable_energy      0.19\n",
      "educational           0.19\n",
      "moving                0.17\n",
      "medical               0.17\n",
      "other                 0.16\n",
      "house                 0.16\n",
      "vacation              0.15\n",
      "debt_consolidation    0.15\n",
      "home_improvement      0.13\n",
      "credit_card           0.11\n",
      "wedding               0.10\n",
      "major_purchase        0.10\n",
      "car                   0.10\n",
      "Name: 0, dtype: float64\n"
     ]
    }
   ],
   "source": [
    "table = pd.crosstab(lend_2009on['purpose'], lend_2009on['target'])\n",
    "table_smell = pd.crosstab(lend_2009on['purpose'], lend_2009on['target'], normalize='index')\n",
    "print(round(table_smell[0],2).sort_values(ascending=False))"
   ]
  },
  {
   "cell_type": "code",
   "execution_count": 4,
   "metadata": {},
   "outputs": [
    {
     "name": "stdout",
     "output_type": "stream",
     "text": [
      "chi_statistic: 378.179\n",
      "p-value: 0.00\n",
      "degree of freedom: 13\n"
     ]
    }
   ],
   "source": [
    "stat, p, dof, expected = stats.chi2_contingency(table)\n",
    "print ('chi_statistic: {:.3f}'.format(stat))\n",
    "print ('p-value: {:.2f}'.format(p))\n",
    "print ('degree of freedom: {:.0f}'.format(dof))\n",
    "# print ('expected freq: {}'.format(expected))"
   ]
  },
  {
   "cell_type": "code",
   "execution_count": 5,
   "metadata": {},
   "outputs": [
    {
     "name": "stdout",
     "output_type": "stream",
     "text": [
      "Dependent (reject H0)\n"
     ]
    }
   ],
   "source": [
    "# interpret p-value, using 95% confident level\n",
    "prob = 0.95\n",
    "alpha = 1.0 - prob\n",
    "if p <= alpha:\n",
    "    print('Dependent (reject H0)')\n",
    "else:\n",
    "    print('Independent (fail to reject H0)')"
   ]
  },
  {
   "cell_type": "markdown",
   "metadata": {},
   "source": [
    "Conclude that loan_purpose has impact on the loan paid off rates"
   ]
  },
  {
   "cell_type": "markdown",
   "metadata": {},
   "source": [
    "Additionally, the following attributes will be test as well per exploratory analysis\n",
    "\n",
    "- Credit history\n",
    "- DTI\n",
    "- Number of credit lines "
   ]
  },
  {
   "cell_type": "code",
   "execution_count": 6,
   "metadata": {},
   "outputs": [],
   "source": [
    "# write a function to streamline the testing steps\n",
    "def chi_square(data):\n",
    "    table = pd.crosstab(lend_2009on[data], lend_2009on['target'])\n",
    "    stat, p, dof, expected = stats.chi2_contingency(table)\n",
    "    table_smell = pd.crosstab(lend_2009on[data], lend_2009on['target'], normalize='index')\n",
    "    print(round(table_smell[0],2).sort_values(ascending=False))\n",
    "    print ('chi_statistic: {:.3f}'.format(stat))\n",
    "    print ('p-value: {:.2f}'.format(p))\n",
    "    print ('degree of freedom: {:.0f}'.format(dof))\n",
    "    prob = 0.95\n",
    "    alpha = 1.0 - prob\n",
    "    if p <= alpha:\n",
    "        print('Dependent (reject H0)')\n",
    "    else:\n",
    "        print('Independent (fail to reject H0)')"
   ]
  },
  {
   "cell_type": "code",
   "execution_count": 7,
   "metadata": {},
   "outputs": [
    {
     "name": "stdout",
     "output_type": "stream",
     "text": [
      "yr_credit\n",
      "49.0    0.40\n",
      "44.0    0.28\n",
      "43.0    0.23\n",
      "48.0    0.22\n",
      "4.0     0.20\n",
      "5.0     0.19\n",
      "38.0    0.19\n",
      "45.0    0.18\n",
      "32.0    0.18\n",
      "3.0     0.18\n",
      "11.0    0.16\n",
      "39.0    0.16\n",
      "6.0     0.16\n",
      "28.0    0.16\n",
      "12.0    0.15\n",
      "10.0    0.15\n",
      "13.0    0.15\n",
      "14.0    0.15\n",
      "16.0    0.15\n",
      "20.0    0.15\n",
      "23.0    0.15\n",
      "26.0    0.15\n",
      "29.0    0.15\n",
      "33.0    0.14\n",
      "40.0    0.14\n",
      "7.0     0.14\n",
      "9.0     0.14\n",
      "17.0    0.14\n",
      "27.0    0.13\n",
      "19.0    0.13\n",
      "41.0    0.13\n",
      "34.0    0.13\n",
      "18.0    0.13\n",
      "15.0    0.13\n",
      "22.0    0.13\n",
      "24.0    0.13\n",
      "21.0    0.12\n",
      "36.0    0.12\n",
      "30.0    0.12\n",
      "8.0     0.12\n",
      "25.0    0.11\n",
      "46.0    0.11\n",
      "37.0    0.09\n",
      "35.0    0.09\n",
      "42.0    0.08\n",
      "31.0    0.08\n",
      "47.0    0.00\n",
      "50.0    0.00\n",
      "61.0    0.00\n",
      "52.0    0.00\n",
      "55.0    0.00\n",
      "57.0    0.00\n",
      "65.0    0.00\n",
      "Name: 0, dtype: float64\n",
      "chi_statistic: 112.650\n",
      "p-value: 0.00\n",
      "degree of freedom: 52\n",
      "Dependent (reject H0)\n"
     ]
    }
   ],
   "source": [
    "# Credit history\n",
    "chi_square('yr_credit')"
   ]
  },
  {
   "cell_type": "code",
   "execution_count": 8,
   "metadata": {},
   "outputs": [
    {
     "name": "stdout",
     "output_type": "stream",
     "text": [
      "dti\n",
      "25.85    1.00\n",
      "25.54    1.00\n",
      "28.77    1.00\n",
      "27.00    1.00\n",
      "28.63    1.00\n",
      "29.45    1.00\n",
      "28.53    1.00\n",
      "26.94    1.00\n",
      "28.48    1.00\n",
      "25.67    1.00\n",
      "29.58    1.00\n",
      "29.60    1.00\n",
      "27.51    1.00\n",
      "25.91    1.00\n",
      "27.45    1.00\n",
      "25.61    1.00\n",
      "25.44    1.00\n",
      "26.03    1.00\n",
      "27.17    1.00\n",
      "27.90    1.00\n",
      "28.20    1.00\n",
      "28.04    1.00\n",
      "29.85    1.00\n",
      "27.34    1.00\n",
      "29.08    1.00\n",
      "25.88    0.67\n",
      "3.79     0.67\n",
      "27.26    0.67\n",
      "21.88    0.62\n",
      "20.63    0.60\n",
      "         ... \n",
      "5.61     0.00\n",
      "5.59     0.00\n",
      "21.38    0.00\n",
      "5.56     0.00\n",
      "21.36    0.00\n",
      "27.22    0.00\n",
      "5.84     0.00\n",
      "5.86     0.00\n",
      "6.21     0.00\n",
      "27.03    0.00\n",
      "26.87    0.00\n",
      "21.59    0.00\n",
      "6.18     0.00\n",
      "26.88    0.00\n",
      "26.89    0.00\n",
      "26.90    0.00\n",
      "26.91    0.00\n",
      "26.92    0.00\n",
      "26.96    0.00\n",
      "6.03     0.00\n",
      "26.98    0.00\n",
      "6.01     0.00\n",
      "5.98     0.00\n",
      "26.99    0.00\n",
      "5.96     0.00\n",
      "5.95     0.00\n",
      "27.01    0.00\n",
      "5.90     0.00\n",
      "27.02    0.00\n",
      "29.99    0.00\n",
      "Name: 0, Length: 2867, dtype: float64\n",
      "chi_statistic: 2886.172\n",
      "p-value: 0.39\n",
      "degree of freedom: 2866\n",
      "Independent (fail to reject H0)\n"
     ]
    }
   ],
   "source": [
    "# DTI\n",
    "chi_square('dti')"
   ]
  },
  {
   "cell_type": "code",
   "execution_count": 9,
   "metadata": {},
   "outputs": [
    {
     "name": "stdout",
     "output_type": "stream",
     "text": [
      "total_acc\n",
      "74.0    1.00\n",
      "70.0    1.00\n",
      "60.0    0.29\n",
      "3.0     0.23\n",
      "59.0    0.21\n",
      "57.0    0.20\n",
      "66.0    0.20\n",
      "43.0    0.20\n",
      "4.0     0.19\n",
      "8.0     0.18\n",
      "48.0    0.17\n",
      "33.0    0.17\n",
      "5.0     0.17\n",
      "6.0     0.17\n",
      "7.0     0.17\n",
      "10.0    0.17\n",
      "45.0    0.17\n",
      "62.0    0.17\n",
      "30.0    0.16\n",
      "36.0    0.16\n",
      "16.0    0.16\n",
      "14.0    0.16\n",
      "38.0    0.16\n",
      "41.0    0.16\n",
      "35.0    0.16\n",
      "11.0    0.16\n",
      "9.0     0.16\n",
      "40.0    0.16\n",
      "17.0    0.15\n",
      "28.0    0.15\n",
      "        ... \n",
      "18.0    0.13\n",
      "51.0    0.12\n",
      "26.0    0.12\n",
      "34.0    0.12\n",
      "53.0    0.11\n",
      "37.0    0.11\n",
      "32.0    0.11\n",
      "47.0    0.11\n",
      "54.0    0.10\n",
      "55.0    0.10\n",
      "52.0    0.08\n",
      "50.0    0.07\n",
      "58.0    0.05\n",
      "75.0    0.00\n",
      "76.0    0.00\n",
      "87.0    0.00\n",
      "81.0    0.00\n",
      "80.0    0.00\n",
      "79.0    0.00\n",
      "64.0    0.00\n",
      "65.0    0.00\n",
      "78.0    0.00\n",
      "67.0    0.00\n",
      "68.0    0.00\n",
      "69.0    0.00\n",
      "77.0    0.00\n",
      "71.0    0.00\n",
      "72.0    0.00\n",
      "73.0    0.00\n",
      "90.0    0.00\n",
      "Name: 0, Length: 81, dtype: float64\n",
      "chi_statistic: 150.631\n",
      "p-value: 0.00\n",
      "degree of freedom: 80\n",
      "Dependent (reject H0)\n"
     ]
    }
   ],
   "source": [
    "# number of credit line\n",
    "chi_square('total_acc')"
   ]
  },
  {
   "cell_type": "markdown",
   "metadata": {},
   "source": [
    "Conclude that credit history and number of credit line have impact on the loan paid off rates, while DTI does not"
   ]
  },
  {
   "cell_type": "code",
   "execution_count": null,
   "metadata": {},
   "outputs": [],
   "source": []
  }
 ],
 "metadata": {
  "kernelspec": {
   "display_name": "Python 3",
   "language": "python",
   "name": "python3"
  },
  "language_info": {
   "codemirror_mode": {
    "name": "ipython",
    "version": 3
   },
   "file_extension": ".py",
   "mimetype": "text/x-python",
   "name": "python",
   "nbconvert_exporter": "python",
   "pygments_lexer": "ipython3",
   "version": "3.6.5"
  }
 },
 "nbformat": 4,
 "nbformat_minor": 2
}
