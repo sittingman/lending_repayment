{
 "cells": [
  {
   "cell_type": "code",
   "execution_count": 17,
   "metadata": {},
   "outputs": [],
   "source": [
    "# Initial setup\n",
    "import pandas as pd\n",
    "import numpy as np\n",
    "from scipy import stats\n",
    "import matplotlib.pyplot as plt\n",
    "%matplotlib inline"
   ]
  },
  {
   "cell_type": "code",
   "execution_count": 18,
   "metadata": {},
   "outputs": [
    {
     "name": "stdout",
     "output_type": "stream",
     "text": [
      "(36182, 8)\n",
      "  home_ownership         purpose  yr_credit    dti  revol_util_dec  total_acc  \\\n",
      "0           RENT     credit_card       26.0  27.65           0.837        9.0   \n",
      "1           RENT             car       12.0   1.00           0.094        4.0   \n",
      "2           RENT  small_business       10.0   8.72           0.985       10.0   \n",
      "3           RENT           other       15.0  20.00           2.100       37.0   \n",
      "4           RENT           other       15.0  17.94           0.539       38.0   \n",
      "\n",
      "  addr_state  target  \n",
      "0         AZ       1  \n",
      "1         GA       0  \n",
      "2         IL       1  \n",
      "3         CA       1  \n",
      "4         OR       1  \n"
     ]
    }
   ],
   "source": [
    "# Read data into dataframe\n",
    "lend_ml = pd.read_csv('data/lending_ml.csv')\n",
    "print(lend_ml.shape)\n",
    "print(lend_ml.head())"
   ]
  },
  {
   "cell_type": "markdown",
   "metadata": {},
   "source": [
    "From the data exploratory exercise, we identified that **loan purpose** appears to influence the loans being paid off rate. To prove that the influence is statistically significant, we run a chi-square test.\n",
    "\n",
    "**Null Hypothesis (H0)** - different loan purposes do not affect loan paid off rate\n",
    "\n",
    "**Alternative Hypothesis (H1)** - loan purposes affect paid off rate\n",
    "\n",
    "**Note**: Target of 0 means loan defaulted, versus 1 means loan was paid off"
   ]
  },
  {
   "cell_type": "code",
   "execution_count": 19,
   "metadata": {},
   "outputs": [
    {
     "name": "stdout",
     "output_type": "stream",
     "text": [
      "target                 0      1    All  paid_off_rate\n",
      "purpose                                              \n",
      "car                  140   1263   1403      90.021383\n",
      "major_purchase       214   1854   2068      89.651838\n",
      "wedding               87    740    827      89.480048\n",
      "credit_card          499   4073   4572      89.085739\n",
      "home_improvement     346   2417   2763      87.477380\n",
      "All                 5322  30860  36182      85.291029\n",
      "vacation              54    306    360      85.000000\n",
      "debt_consolidation  2648  14608  17256      84.654613\n",
      "house                 56    288    344      83.720930\n",
      "medical              103    524    627      83.572568\n",
      "other                609   3018   3627      83.209264\n",
      "moving                91    442    533      82.926829\n",
      "renewable_energy      20     80    100      80.000000\n",
      "educational           32    127    159      79.874214\n",
      "small_business       423   1120   1543      72.585872\n"
     ]
    }
   ],
   "source": [
    "# Use crosstab function to get the count by purpose\n",
    "table = pd.crosstab(lend_ml['purpose'], lend_ml['target'], margins=True)\n",
    "\n",
    "table['paid_off_rate'] = table[1]/(table[1] + table[0])*100 #calculate loan paid off rates\n",
    "\n",
    "print(table.sort_values(by='paid_off_rate', ascending=False))"
   ]
  },
  {
   "cell_type": "code",
   "execution_count": 20,
   "metadata": {},
   "outputs": [
    {
     "name": "stdout",
     "output_type": "stream",
     "text": [
      "chi_statistic: 358.083\n",
      "p-value: 0.00\n",
      "degree of freedom: 14\n",
      "expected freq: \n",
      "                               0             1\n",
      "purpose                                      \n",
      "car                  206.366868   1196.633132\n",
      "credit_card          672.494168   3899.505832\n",
      "debt_consolidation  2538.180090  14717.819910\n",
      "educational           23.387264    135.612736\n",
      "home_improvement     406.408877   2356.591123\n",
      "house                 50.598861    293.401139\n",
      "major_purchase       304.181527   1763.818473\n",
      "medical               92.225250    534.774750\n",
      "moving                78.398817    454.601183\n",
      "other                533.494389   3093.505611\n",
      "renewable_energy      14.708971     85.291029\n",
      "small_business       226.959427   1316.040573\n",
      "vacation              52.952297    307.047703\n",
      "wedding              121.643193    705.356807\n",
      "All                 5322.000000  30860.000000\n"
     ]
    }
   ],
   "source": [
    "# apply chi square test\n",
    "stat, p, dof, expected = stats.chi2_contingency(table[[0,1]])\n",
    "print ('chi_statistic: {:.3f}'.format(stat))\n",
    "print ('p-value: {:.2f}'.format(p))\n",
    "print ('degree of freedom: {:.0f}'.format(dof))\n",
    "print ('expected freq: \\n {}'.format(pd.DataFrame(expected, index=table.index)))"
   ]
  },
  {
   "cell_type": "code",
   "execution_count": 21,
   "metadata": {},
   "outputs": [
    {
     "name": "stdout",
     "output_type": "stream",
     "text": [
      "Dependent (reject H0)\n"
     ]
    }
   ],
   "source": [
    "# interpret p-value, using 95% confident level\n",
    "prob = 0.95\n",
    "alpha = 1.0 - prob\n",
    "if p <= alpha:\n",
    "    print('Dependent (reject H0)')\n",
    "else:\n",
    "    print('Independent (fail to reject H0)')"
   ]
  },
  {
   "cell_type": "markdown",
   "metadata": {},
   "source": [
    "Conclude that loan_purpose has dependences to loan paid off rates"
   ]
  },
  {
   "cell_type": "markdown",
   "metadata": {},
   "source": [
    "Additionally, the following attributes will be test per exploratory analysis\n",
    "\n",
    "- property ownership\n",
    "- Credit history\n",
    "- DTI\n",
    "- Number of credit lines \n",
    "- state of the applicants\n",
    "\n",
    "**H0**: feature selected show dependence to loan paid off rate\n",
    "\n",
    "**H1**: feature selected does not have dependence to loan paid off rate"
   ]
  },
  {
   "cell_type": "code",
   "execution_count": 22,
   "metadata": {},
   "outputs": [],
   "source": [
    "# write a function to streamline the testing steps\n",
    "def chi_square(data):\n",
    "    table = pd.crosstab(lend_ml[data], lend_ml['target'])\n",
    "    table['paid_off_rate'] = table[1]/(table[1] + table[0])*100\n",
    "    stat, p, dof, expected = stats.chi2_contingency(table[[0,1]])\n",
    "    print ('chi_statistic: {:.3f}'.format(stat))\n",
    "    print ('p-value: {:.2f}'.format(p))\n",
    "    print ('degree of freedom: {:.0f}'.format(dof))\n",
    "    prob = 0.95\n",
    "    alpha = 1.0 - prob\n",
    "    if p <= alpha:\n",
    "        print('Dependent (reject H0)')\n",
    "    else:\n",
    "        print('Independent (fail to reject H0)')"
   ]
  },
  {
   "cell_type": "markdown",
   "metadata": {},
   "source": [
    "#### Property Ownership"
   ]
  },
  {
   "cell_type": "code",
   "execution_count": 23,
   "metadata": {},
   "outputs": [
    {
     "name": "stdout",
     "output_type": "stream",
     "text": [
      "chi_statistic: 40.336\n",
      "p-value: 0.00\n",
      "degree of freedom: 3\n",
      "Dependent (reject H0)\n"
     ]
    }
   ],
   "source": [
    "chi_square('home_ownership')"
   ]
  },
  {
   "cell_type": "markdown",
   "metadata": {},
   "source": [
    "- Home ownership has dependence to the loan paid off rate."
   ]
  },
  {
   "cell_type": "markdown",
   "metadata": {},
   "source": [
    "#### Credit History"
   ]
  },
  {
   "cell_type": "code",
   "execution_count": 24,
   "metadata": {},
   "outputs": [
    {
     "name": "stdout",
     "output_type": "stream",
     "text": [
      "chi_statistic: 111.507\n",
      "p-value: 0.00\n",
      "degree of freedom: 52\n",
      "Dependent (reject H0)\n"
     ]
    }
   ],
   "source": [
    "chi_square('yr_credit')"
   ]
  },
  {
   "cell_type": "markdown",
   "metadata": {},
   "source": [
    "- Credit History has dependence to the loan paid off rate."
   ]
  },
  {
   "cell_type": "code",
   "execution_count": 25,
   "metadata": {},
   "outputs": [],
   "source": [
    "# visualize the result with binned categories\n",
    "yr_credit_chi = pd.crosstab(lend_ml['yr_credit'], lend_ml['target'])\n",
    "bins = [0, 5, 10, 15, 20, 30, 40 , 100]\n",
    "yr_credit_table = lend_ml.copy()\n",
    "yr_credit_table['binned'] = pd.cut(yr_credit_table['yr_credit'], bins=bins)\n",
    "table_cre = pd.crosstab(yr_credit_table['binned'], yr_credit_table['target']).sort_index()\n",
    "table_cre['not_paid_off'] = table_cre[0]/(table_cre[0]+table_cre[1])*100"
   ]
  },
  {
   "cell_type": "code",
   "execution_count": 26,
   "metadata": {},
   "outputs": [
    {
     "data": {
      "image/png": "[encoded data removed]",
      "text/plain": [
       "<Figure size 432x288 with 1 Axes>"
      ]
     },
     "metadata": {
      "needs_background": "light"
     },
     "output_type": "display_data"
    }
   ],
   "source": [
    "table_cre['not_paid_off'].plot(kind='bar');"
   ]
  },
  {
   "cell_type": "markdown",
   "metadata": {},
   "source": [
    "#### Debt to income ratio (DTI)"
   ]
  },
  {
   "cell_type": "code",
   "execution_count": 27,
   "metadata": {},
   "outputs": [
    {
     "name": "stdout",
     "output_type": "stream",
     "text": [
      "chi_statistic: 2860.664\n",
      "p-value: 0.52\n",
      "degree of freedom: 2865\n",
      "Independent (fail to reject H0)\n"
     ]
    }
   ],
   "source": [
    "chi_square('dti')"
   ]
  },
  {
   "cell_type": "markdown",
   "metadata": {},
   "source": [
    "- DTI at the individual records level does not show dependence to loan paid off rates. \n",
    "\n",
    "Access this metric one more time by grouping values into bins."
   ]
  },
  {
   "cell_type": "code",
   "execution_count": 28,
   "metadata": {},
   "outputs": [
    {
     "name": "stdout",
     "output_type": "stream",
     "text": [
      "target       0     1  not_paid_off\n",
      "binned                            \n",
      "(0, 5]     541  3794     12.479815\n",
      "(5, 10]    920  6265     12.804454\n",
      "(10, 15]  1330  7647     14.815640\n",
      "(15, 20]  1332  7096     15.804461\n",
      "(20, 30]  1176  5941     16.523816\n"
     ]
    },
    {
     "data": {
      "image/png": "[encoded data removed]",
      "text/plain": [
       "<Figure size 432x288 with 1 Axes>"
      ]
     },
     "metadata": {
      "needs_background": "light"
     },
     "output_type": "display_data"
    }
   ],
   "source": [
    "# visual the result with binned categories\n",
    "bins = [0, 5, 10, 15, 20, 30, 40]\n",
    "dti_table = lend_ml.copy()\n",
    "dti_table['binned'] = pd.cut(dti_table['dti'], bins=bins)\n",
    "table_dti = pd.crosstab(dti_table['binned'], dti_table['target']).sort_index()\n",
    "table_dti['not_paid_off'] = table_dti[0]/(table_dti[0]+table_dti[1])*100\n",
    "print(table_dti)\n",
    "table_dti['not_paid_off'].plot(kind='bar');"
   ]
  },
  {
   "cell_type": "markdown",
   "metadata": {},
   "source": [
    "The binned category now shows some potential variation on the paid off rates. Run chi square test again"
   ]
  },
  {
   "cell_type": "code",
   "execution_count": 29,
   "metadata": {},
   "outputs": [
    {
     "name": "stdout",
     "output_type": "stream",
     "text": [
      "chi_statistic: 64.796\n",
      "p-value: 0.00\n",
      "degree of freedom: 4\n",
      "expected freq: \n",
      "                     0            1\n",
      "binned                            \n",
      "(0, 5]     637.344348  3697.655652\n",
      "(5, 10]   1056.359664  6128.640336\n",
      "(10, 15]  1319.824732  7657.175268\n",
      "(15, 20]  1239.109150  7188.890850\n",
      "(20, 30]  1046.362105  6070.637895\n",
      "Dependent (reject H0)\n"
     ]
    }
   ],
   "source": [
    "stat, p, dof, expected = stats.chi2_contingency(table_dti[[0,1]])\n",
    "print ('chi_statistic: {:.3f}'.format(stat))\n",
    "print ('p-value: {:.2f}'.format(p))\n",
    "print ('degree of freedom: {:.0f}'.format(dof))\n",
    "print ('expected freq: \\n {}'.format(pd.DataFrame(expected, index=table_dti.index)))\n",
    "prob = 0.95\n",
    "alpha = 1.0 - prob\n",
    "if p <= alpha:\n",
    "    print('Dependent (reject H0)')\n",
    "else:\n",
    "    print('Independent (fail to reject H0)')"
   ]
  },
  {
   "cell_type": "markdown",
   "metadata": {},
   "source": [
    "DTI at the category of 5 bins level has dependence to the loan paid off rates. It shows that lower DTI has lower default rates. A new feature column will be added into the dataset during machine learning process."
   ]
  },
  {
   "cell_type": "markdown",
   "metadata": {},
   "source": [
    "#### Number of credit lines"
   ]
  },
  {
   "cell_type": "code",
   "execution_count": 30,
   "metadata": {},
   "outputs": [
    {
     "name": "stdout",
     "output_type": "stream",
     "text": [
      "chi_statistic: 145.637\n",
      "p-value: 0.00\n",
      "degree of freedom: 80\n",
      "Dependent (reject H0)\n"
     ]
    }
   ],
   "source": [
    "chi_square('total_acc')"
   ]
  },
  {
   "cell_type": "markdown",
   "metadata": {},
   "source": [
    "- Number of credit lines has dependence to the loan paid off rates"
   ]
  },
  {
   "cell_type": "code",
   "execution_count": 31,
   "metadata": {},
   "outputs": [
    {
     "name": "stdout",
     "output_type": "stream",
     "text": [
      "target        0     1  not_paid_off\n",
      "binned                             \n",
      "(0, 5]      200   843     19.175455\n",
      "(5, 10]     710  3497     16.876634\n",
      "(10, 15]    960  5202     15.579357\n",
      "(15, 20]    925  5499     14.399128\n",
      "(20, 30]   1410  8991     13.556389\n",
      "(30, 40]    742  4536     14.058355\n",
      "(40, 60]    348  2118     14.111922\n",
      "(60, 100]    27   174     13.432836\n"
     ]
    },
    {
     "data": {
      "image/png": "[encoded data removed]",
      "text/plain": [
       "<Figure size 432x288 with 1 Axes>"
      ]
     },
     "metadata": {
      "needs_background": "light"
     },
     "output_type": "display_data"
    }
   ],
   "source": [
    "# visual the result with binned categories\n",
    "bins = [0, 5, 10, 15, 20, 30, 40, 60, 100]\n",
    "ttl_acc_table = lend_ml.copy()\n",
    "ttl_acc_table['binned'] = pd.cut(ttl_acc_table['total_acc'], bins=bins)\n",
    "table_ttl_acc = pd.crosstab(ttl_acc_table['binned'], ttl_acc_table['target']).sort_index()\n",
    "table_ttl_acc['not_paid_off'] = table_ttl_acc[0]/(table_ttl_acc[0]+table_ttl_acc[1])*100\n",
    "print(table_ttl_acc)\n",
    "table_ttl_acc['not_paid_off'].plot(kind='bar');"
   ]
  },
  {
   "cell_type": "markdown",
   "metadata": {},
   "source": [
    "- Applicants who have less than 10 credit line have the higher chance of paying off the loans."
   ]
  },
  {
   "cell_type": "markdown",
   "metadata": {},
   "source": [
    "#### Applicant's State"
   ]
  },
  {
   "cell_type": "code",
   "execution_count": 32,
   "metadata": {},
   "outputs": [
    {
     "name": "stdout",
     "output_type": "stream",
     "text": [
      "chi_statistic: 116.216\n",
      "p-value: 0.00\n",
      "degree of freedom: 45\n",
      "Dependent (reject H0)\n",
      "target         0      1    All  paid_off_rate\n",
      "addr_state                                   \n",
      "IA             0      1      1     100.000000\n",
      "MS             0      1      1     100.000000\n",
      "TN             0      1      1     100.000000\n",
      "WY             4     74     78      94.871795\n",
      "DC            10    177    187      94.652406\n",
      "DE            11    100    111      90.090090\n",
      "VT             5     43     48      89.583333\n",
      "WV            19    147    166      88.554217\n",
      "AR            28    206    234      88.034188\n",
      "AL            51    369    420      87.857143\n",
      "CO            88    616    704      87.500000\n",
      "TX           314   2182   2496      87.419872\n",
      "KS            29    201    230      87.391304\n",
      "NH            20    136    156      87.179487\n",
      "VA           163   1099   1262      87.083994\n",
      "LA            52    349    401      87.032419\n",
      "CT            92    609    701      86.875892\n",
      "RI            23    151    174      86.781609\n",
      "MA           159   1035   1194      86.683417\n",
      "IL           196   1261   1457      86.547701\n",
      "NY           472   3015   3487      86.464009\n",
      "AZ           106    675    781      86.427657\n",
      "OK            38    241    279      86.379928\n",
      "PA           191   1210   1401      86.366881\n",
      "OH           155    974   1129      86.271036\n",
      "MT            11     68     79      86.075949\n",
      "SC            59    356    415      85.783133\n",
      "NC           108    643    751      85.619174\n",
      "All         5322  30860  36182      85.291029\n",
      "MN            83    476    559      85.152057\n",
      "UT            34    193    227      85.022026\n",
      "GA           190   1074   1264      84.968354\n",
      "MI           102    554    656      84.451220\n",
      "NJ           265   1424   1689      84.310243\n",
      "OR            65    346    411      84.184915\n",
      "CA          1029   5378   6407      83.939441\n",
      "KY            51    266    317      83.911672\n",
      "WA           122    631    753      83.798141\n",
      "WI            72    368    440      83.636364\n",
      "MD           156    796    952      83.613445\n",
      "HI            27    133    160      83.125000\n",
      "FL           449   2149   2598      82.717475\n",
      "MO           117    539    656      82.164634\n",
      "NM            31    134    165      81.212121\n",
      "AK            14     60     74      81.081081\n",
      "NV            98    353    451      78.270510\n",
      "SD            13     46     59      77.966102\n"
     ]
    }
   ],
   "source": [
    "chi_square('addr_state')\n",
    "table_state = pd.crosstab(lend_ml['addr_state'], lend_ml['target'], margins=True)\n",
    "table_state['paid_off_rate'] = table_state[1]/(table_state[1] + table_state[0])*100\n",
    "print(table_state.sort_values(by='paid_off_rate', ascending=False))"
   ]
  },
  {
   "cell_type": "markdown",
   "metadata": {},
   "source": [
    "Applicant's State show dependence to loan paid off rates.\n",
    "\n",
    "Notice that TN and IA have 100% paid off rate, but they only have 1 records each, hence we don't have big enough sample to conclude that all applicants from both states will always repay their loans.\n",
    "\n",
    "In the machine learning part, we will replace small state label (<200 records) as \"SML\" to avoid overfit for this feature."
   ]
  },
  {
   "cell_type": "markdown",
   "metadata": {},
   "source": [
    "### Conclusion\n",
    "Home ownership, credit history, number of credit lines, and applicant's State show dependence to the loan paid off rates. DTI initially does not show dependence to the loan paid off rate at individual level, but when group them by bins, it show dependence to the paid off rate.\n",
    "\n",
    "### Limitation\n",
    "The whole analysis assumes that there is no correlation among features. Each test is isolated to one features at a time versus target.\n",
    "\n",
    "[Back to README](https://github.com/sittingman/lending_repayment)"
   ]
  }
 ],
 "metadata": {
  "kernelspec": {
   "display_name": "Python 3",
   "language": "python",
   "name": "python3"
  },
  "language_info": {
   "codemirror_mode": {
    "name": "ipython",
    "version": 3
   },
   "file_extension": ".py",
   "mimetype": "text/x-python",
   "name": "python",
   "nbconvert_exporter": "python",
   "pygments_lexer": "ipython3",
   "version": "3.7.3"
  }
 },
 "nbformat": 4,
 "nbformat_minor": 2
}
