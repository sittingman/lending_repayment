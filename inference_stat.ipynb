{
 "cells": [
  {
   "cell_type": "code",
   "execution_count": 47,
   "metadata": {},
   "outputs": [],
   "source": [
    "import pandas as pd\n",
    "import numpy as np\n",
    "from scipy import stats\n",
    "import matplotlib.pyplot as plt\n",
    "%matplotlib inline"
   ]
  },
  {
   "cell_type": "markdown",
   "metadata": {},
   "source": [
    "From the data exploratory exercise, we identified that loan purpose appears to have influence on the loans being paid off or not. To prove that the influence is statistically significant, we will run chi square test on it"
   ]
  },
  {
   "cell_type": "code",
   "execution_count": 2,
   "metadata": {},
   "outputs": [],
   "source": [
    "lend = pd.read_csv('data/lending_clean.csv')\n",
    "lend_2009on = lend[lend['loan_start_d'] >= '2009-01-01']"
   ]
  },
  {
   "cell_type": "markdown",
   "metadata": {},
   "source": [
    "Null Hypothesis - different loan purposes do not affect loan paid off rate\n",
    "\n",
    "Alternative Hypothesis - loan purposes affect paid off rate"
   ]
  },
  {
   "cell_type": "code",
   "execution_count": 26,
   "metadata": {},
   "outputs": [
    {
     "name": "stdout",
     "output_type": "stream",
     "text": [
      "purpose\n",
      "car                   89.857881\n",
      "major_purchase        89.683258\n",
      "wedding               89.552239\n",
      "credit_card           89.200561\n",
      "home_improvement      87.462785\n",
      "vacation              84.816754\n",
      "debt_consolidation    84.784596\n",
      "house                 83.673469\n",
      "other                 83.564057\n",
      "moving                83.361921\n",
      "medical               83.261183\n",
      "educational           81.395349\n",
      "renewable_energy      80.582524\n",
      "small_business        73.300166\n",
      "Name: paid_off_rate, dtype: float64\n"
     ]
    }
   ],
   "source": [
    "table = pd.crosstab(lend_2009on['purpose'], lend_2009on['target'])\n",
    "table['paid_off_rate'] = table[1]/(table[1] + table[0])*100\n",
    "print(table['paid_off_rate'].sort_values(ascending=False))"
   ]
  },
  {
   "cell_type": "code",
   "execution_count": 28,
   "metadata": {},
   "outputs": [
    {
     "name": "stdout",
     "output_type": "stream",
     "text": [
      "chi_statistic: 378.179\n",
      "p-value: 0.00\n",
      "degree of freedom: 13\n"
     ]
    }
   ],
   "source": [
    "stat, p, dof, expected = stats.chi2_contingency(table[[0,1]])\n",
    "print ('chi_statistic: {:.3f}'.format(stat))\n",
    "print ('p-value: {:.2f}'.format(p))\n",
    "print ('degree of freedom: {:.0f}'.format(dof))\n",
    "# print ('expected freq: {}'.format(expected))"
   ]
  },
  {
   "cell_type": "code",
   "execution_count": 5,
   "metadata": {},
   "outputs": [
    {
     "name": "stdout",
     "output_type": "stream",
     "text": [
      "Dependent (reject H0)\n"
     ]
    }
   ],
   "source": [
    "# interpret p-value, using 95% confident level\n",
    "prob = 0.95\n",
    "alpha = 1.0 - prob\n",
    "if p <= alpha:\n",
    "    print('Dependent (reject H0)')\n",
    "else:\n",
    "    print('Independent (fail to reject H0)')"
   ]
  },
  {
   "cell_type": "markdown",
   "metadata": {},
   "source": [
    "Conclude that loan_purpose has impact on the loan paid off rates"
   ]
  },
  {
   "cell_type": "markdown",
   "metadata": {},
   "source": [
    "Additionally, the following attributes will be test as well per exploratory analysis\n",
    "\n",
    "- Credit history\n",
    "- DTI\n",
    "- Number of credit lines "
   ]
  },
  {
   "cell_type": "code",
   "execution_count": 29,
   "metadata": {},
   "outputs": [],
   "source": [
    "# write a function to streamline the testing steps\n",
    "def chi_square(data):\n",
    "    table = pd.crosstab(lend_2009on[data], lend_2009on['target'])\n",
    "    table['paid_off_rate'] = table[1]/(table[1] + table[0])*100\n",
    "    stat, p, dof, expected = stats.chi2_contingency(table[[0,1]])\n",
    "    print ('chi_statistic: {:.3f}'.format(stat))\n",
    "    print ('p-value: {:.2f}'.format(p))\n",
    "    print ('degree of freedom: {:.0f}'.format(dof))\n",
    "    prob = 0.95\n",
    "    alpha = 1.0 - prob\n",
    "    if p <= alpha:\n",
    "        print('Dependent (reject H0)')\n",
    "    else:\n",
    "        print('Independent (fail to reject H0)')"
   ]
  },
  {
   "cell_type": "code",
   "execution_count": 30,
   "metadata": {},
   "outputs": [
    {
     "name": "stdout",
     "output_type": "stream",
     "text": [
      "chi_statistic: 112.650\n",
      "p-value: 0.00\n",
      "degree of freedom: 52\n",
      "Dependent (reject H0)\n"
     ]
    }
   ],
   "source": [
    "# Credit history\n",
    "chi_square('yr_credit')"
   ]
  },
  {
   "cell_type": "code",
   "execution_count": 53,
   "metadata": {},
   "outputs": [],
   "source": [
    "yr_credit_chi = pd.crosstab(lend_2009on['yr_credit'], lend_2009on['target'])"
   ]
  },
  {
   "cell_type": "code",
   "execution_count": 70,
   "metadata": {},
   "outputs": [],
   "source": [
    "bins = range(0, 100, 10)\n",
    "yr_credit_table = lend_2009on.copy()\n",
    "yr_credit_table['binned'] = pd.cut(yr_credit_table['yr_credit'], bins=bins)"
   ]
  },
  {
   "cell_type": "code",
   "execution_count": 77,
   "metadata": {},
   "outputs": [],
   "source": [
    "table_cre = pd.crosstab(yr_credit_table['binned'], yr_credit_table['target'])\n",
    "table_cre['paid_off'] = table_cre[1]/(table_cre[0]+table_cre[1])*100"
   ]
  },
  {
   "cell_type": "code",
   "execution_count": 82,
   "metadata": {},
   "outputs": [
    {
     "data": {
      "text/plain": [
       "<matplotlib.axes._subplots.AxesSubplot at 0x1da7c8928d0>"
      ]
     },
     "execution_count": 82,
     "metadata": {},
     "output_type": "execute_result"
    },
    {
     "data": {
      "image/png": "[encoded data removed]",
      "text/plain": [
       "<Figure size 432x288 with 1 Axes>"
      ]
     },
     "metadata": {},
     "output_type": "display_data"
    }
   ],
   "source": [
    "table_cre['paid_off'].plot(kind='bar')"
   ]
  },
  {
   "cell_type": "code",
   "execution_count": 32,
   "metadata": {},
   "outputs": [
    {
     "name": "stdout",
     "output_type": "stream",
     "text": [
      "chi_statistic: 2886.172\n",
      "p-value: 0.39\n",
      "degree of freedom: 2866\n",
      "Independent (fail to reject H0)\n"
     ]
    }
   ],
   "source": [
    "# DTI\n",
    "chi_square('dti')"
   ]
  },
  {
   "cell_type": "code",
   "execution_count": 33,
   "metadata": {},
   "outputs": [
    {
     "name": "stdout",
     "output_type": "stream",
     "text": [
      "chi_statistic: 150.631\n",
      "p-value: 0.00\n",
      "degree of freedom: 80\n",
      "Dependent (reject H0)\n"
     ]
    }
   ],
   "source": [
    "# number of credit line\n",
    "chi_square('total_acc')"
   ]
  },
  {
   "cell_type": "markdown",
   "metadata": {},
   "source": [
    "Conclude that credit history and number of credit line have impact on the loan paid off rates, while DTI does not"
   ]
  },
  {
   "cell_type": "code",
   "execution_count": null,
   "metadata": {},
   "outputs": [],
   "source": []
  }
 ],
 "metadata": {
  "kernelspec": {
   "display_name": "Python 3",
   "language": "python",
   "name": "python3"
  },
  "language_info": {
   "codemirror_mode": {
    "name": "ipython",
    "version": 3
   },
   "file_extension": ".py",
   "mimetype": "text/x-python",
   "name": "python",
   "nbconvert_exporter": "python",
   "pygments_lexer": "ipython3",
   "version": "3.6.5"
  }
 },
 "nbformat": 4,
 "nbformat_minor": 2
}
