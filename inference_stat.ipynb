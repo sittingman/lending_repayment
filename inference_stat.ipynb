{
 "cells": [
  {
   "cell_type": "code",
   "execution_count": 1,
   "metadata": {},
   "outputs": [],
   "source": [
    "# Initial setup\n",
    "import pandas as pd\n",
    "import numpy as np\n",
    "from scipy import stats\n",
    "import matplotlib.pyplot as plt\n",
    "%matplotlib inline"
   ]
  },
  {
   "cell_type": "code",
   "execution_count": 2,
   "metadata": {},
   "outputs": [
    {
     "name": "stdout",
     "output_type": "stream",
     "text": [
      "(89549, 7)\n",
      "  home_ownership         purpose  yr_credit    dti  total_acc addr_state  \\\n",
      "0           RENT     credit_card       29.0  27.65        9.0         AZ   \n",
      "1           RENT             car       15.0   1.00        4.0         GA   \n",
      "2           RENT  small_business       13.0   8.72       10.0         IL   \n",
      "3           RENT           other       18.0  20.00       37.0         CA   \n",
      "4           RENT           other       18.0  17.94       38.0         OR   \n",
      "\n",
      "   target  \n",
      "0       1  \n",
      "1       0  \n",
      "2       1  \n",
      "3       1  \n",
      "4       1  \n"
     ]
    }
   ],
   "source": [
    "# Read data into dataframe\n",
    "lend_ml = pd.read_csv('data/lending_ml.csv')\n",
    "print(lend_ml.shape)\n",
    "print(lend_ml.head())"
   ]
  },
  {
   "cell_type": "markdown",
   "metadata": {},
   "source": [
    "From the data exploratory exercise, we identified that **loan purpose** appears to influence the loans being paid off rate. To prove that the influence is statistically significant, we run a chi-square test.\n",
    "\n",
    "**Null Hypothesis (H0)** - different loan purposes do not affect loan paid off rate\n",
    "\n",
    "**Alternative Hypothesis (H1)** - loan purposes affect paid off rate\n",
    "\n",
    "**Note**: Target of 0 means loan defaulted, versus 1 means loan was paid off"
   ]
  },
  {
   "cell_type": "code",
   "execution_count": 3,
   "metadata": {},
   "outputs": [
    {
     "name": "stdout",
     "output_type": "stream",
     "text": [
      "target                  0      1    All  paid_off_rate\n",
      "purpose                                               \n",
      "car                   236   2068   2304      89.756944\n",
      "major_purchase        379   3049   3428      88.943991\n",
      "wedding               178   1385   1563      88.611644\n",
      "credit_card          1818  13119  14937      87.828881\n",
      "home_improvement      716   4940   5656      87.340877\n",
      "All                 13966  75583  89549      84.404069\n",
      "vacation              115    589    704      83.664773\n",
      "medical               208   1049   1257      83.452665\n",
      "debt_consolidation   8002  40065  48067      83.352404\n",
      "moving                156    776    932      83.261803\n",
      "other                1174   5506   6680      82.425150\n",
      "house                 139    623    762      81.758530\n",
      "educational            32    127    159      79.874214\n",
      "renewable_energy       37    134    171      78.362573\n",
      "small_business        776   2153   2929      73.506316\n"
     ]
    }
   ],
   "source": [
    "# Use crosstab function to get the count by purpose\n",
    "table = pd.crosstab(lend_ml['purpose'], lend_ml['target'], margins=True)\n",
    "\n",
    "table['paid_off_rate'] = table[1]/(table[1] + table[0])*100 #calculate loan paid off rates\n",
    "\n",
    "print(table.sort_values(by='paid_off_rate', ascending=False))"
   ]
  },
  {
   "cell_type": "code",
   "execution_count": 4,
   "metadata": {},
   "outputs": [
    {
     "name": "stdout",
     "output_type": "stream",
     "text": [
      "chi_statistic: 632.862\n",
      "p-value: 0.00\n",
      "degree of freedom: 14\n",
      "expected freq: \n",
      "                                0             1\n",
      "purpose                                       \n",
      "car                   359.330244   1944.669756\n",
      "credit_card          2329.564172  12607.435828\n",
      "debt_consolidation   7496.496019  40570.503981\n",
      "educational            24.797530    134.202470\n",
      "home_improvement      882.105841   4773.894159\n",
      "house                 118.840992    643.159008\n",
      "major_purchase        534.628505   2893.371495\n",
      "medical               196.040849   1060.959151\n",
      "moving                145.354074    786.645926\n",
      "other                1041.808172   5638.191828\n",
      "renewable_energy       26.669042    144.330958\n",
      "small_business        456.804811   2472.195189\n",
      "vacation              109.795352    594.204648\n",
      "wedding               243.764397   1319.235603\n",
      "All                 13966.000000  75583.000000\n"
     ]
    }
   ],
   "source": [
    "# apply chi square test\n",
    "stat, p, dof, expected = stats.chi2_contingency(table[[0,1]])\n",
    "print ('chi_statistic: {:.3f}'.format(stat))\n",
    "print ('p-value: {:.2f}'.format(p))\n",
    "print ('degree of freedom: {:.0f}'.format(dof))\n",
    "print ('expected freq: \\n {}'.format(pd.DataFrame(expected, index=table.index)))"
   ]
  },
  {
   "cell_type": "code",
   "execution_count": 5,
   "metadata": {},
   "outputs": [
    {
     "name": "stdout",
     "output_type": "stream",
     "text": [
      "Dependent (reject H0)\n"
     ]
    }
   ],
   "source": [
    "# interpret p-value, using 95% confident level\n",
    "prob = 0.95\n",
    "alpha = 1.0 - prob\n",
    "if p <= alpha:\n",
    "    print('Dependent (reject H0)')\n",
    "else:\n",
    "    print('Independent (fail to reject H0)')"
   ]
  },
  {
   "cell_type": "markdown",
   "metadata": {},
   "source": [
    "- Conclude that loan_purpose has dependences to loan paid off rates"
   ]
  },
  {
   "cell_type": "markdown",
   "metadata": {},
   "source": [
    "Additionally, the following attributes will be test per exploratory analysis\n",
    "\n",
    "- property ownership\n",
    "- Credit history\n",
    "- DTI\n",
    "- Number of credit lines \n",
    "- state of the applicants\n",
    "\n",
    "**H0**: feature selected show dependence to loan paid off rate\n",
    "\n",
    "**H1**: feature selected does not have dependence to loan paid off rate"
   ]
  },
  {
   "cell_type": "code",
   "execution_count": 6,
   "metadata": {},
   "outputs": [],
   "source": [
    "# write a function to streamline the testing steps\n",
    "def chi_square(data):\n",
    "    table = pd.crosstab(lend_ml[data], lend_ml['target'])\n",
    "    table['paid_off_rate'] = table[1]/(table[1] + table[0])*100\n",
    "    stat, p, dof, expected = stats.chi2_contingency(table[[0,1]])\n",
    "    print ('chi_statistic: {:.3f}'.format(stat))\n",
    "    print ('p-value: {:.2f}'.format(p))\n",
    "    print ('degree of freedom: {:.0f}'.format(dof))\n",
    "    prob = 0.95\n",
    "    alpha = 1.0 - prob\n",
    "    if p <= alpha:\n",
    "        print('Dependent (reject H0)')\n",
    "    else:\n",
    "        print('Independent (fail to reject H0)')"
   ]
  },
  {
   "cell_type": "markdown",
   "metadata": {},
   "source": [
    "#### Property Ownership"
   ]
  },
  {
   "cell_type": "code",
   "execution_count": 7,
   "metadata": {},
   "outputs": [
    {
     "name": "stdout",
     "output_type": "stream",
     "text": [
      "chi_statistic: 82.237\n",
      "p-value: 0.00\n",
      "degree of freedom: 4\n",
      "Dependent (reject H0)\n"
     ]
    }
   ],
   "source": [
    "chi_square('home_ownership')"
   ]
  },
  {
   "cell_type": "markdown",
   "metadata": {},
   "source": [
    "- Home ownership has dependence to the loan paid off rate."
   ]
  },
  {
   "cell_type": "markdown",
   "metadata": {},
   "source": [
    "#### Credit History"
   ]
  },
  {
   "cell_type": "code",
   "execution_count": 8,
   "metadata": {},
   "outputs": [
    {
     "name": "stdout",
     "output_type": "stream",
     "text": [
      "chi_statistic: 137.640\n",
      "p-value: 0.00\n",
      "degree of freedom: 55\n",
      "Dependent (reject H0)\n"
     ]
    }
   ],
   "source": [
    "chi_square('yr_credit')"
   ]
  },
  {
   "cell_type": "markdown",
   "metadata": {},
   "source": [
    "- Credit History has dependence to the loan paid off rate."
   ]
  },
  {
   "cell_type": "code",
   "execution_count": 9,
   "metadata": {},
   "outputs": [],
   "source": [
    "# visualize the result with binned categories\n",
    "yr_credit_chi = pd.crosstab(lend_ml['yr_credit'], lend_ml['target'])\n",
    "bins = [0, 5, 10, 15, 20, 30, 40 , 100]\n",
    "yr_credit_table = lend_ml.copy()\n",
    "yr_credit_table['binned'] = pd.cut(yr_credit_table['yr_credit'], bins=bins)\n",
    "table_cre = pd.crosstab(yr_credit_table['binned'], yr_credit_table['target']).sort_index()\n",
    "table_cre['not_paid_off'] = table_cre[0]/(table_cre[0]+table_cre[1])*100"
   ]
  },
  {
   "cell_type": "code",
   "execution_count": 10,
   "metadata": {},
   "outputs": [
    {
     "data": {
      "image/png": "[encoded data removed]",
      "text/plain": [
       "<Figure size 432x288 with 1 Axes>"
      ]
     },
     "metadata": {
      "needs_background": "light"
     },
     "output_type": "display_data"
    }
   ],
   "source": [
    "table_cre['not_paid_off'].plot(kind='bar');"
   ]
  },
  {
   "cell_type": "markdown",
   "metadata": {},
   "source": [
    "#### Debt to income ratio (DTI)"
   ]
  },
  {
   "cell_type": "code",
   "execution_count": 11,
   "metadata": {},
   "outputs": [
    {
     "name": "stdout",
     "output_type": "stream",
     "text": [
      "chi_statistic: 3992.043\n",
      "p-value: 0.00\n",
      "degree of freedom: 3495\n",
      "Dependent (reject H0)\n"
     ]
    }
   ],
   "source": [
    "chi_square('dti')"
   ]
  },
  {
   "cell_type": "markdown",
   "metadata": {},
   "source": [
    "- DTI at the individual records level does not show dependence to loan paid off rates. "
   ]
  },
  {
   "cell_type": "code",
   "execution_count": 12,
   "metadata": {},
   "outputs": [
    {
     "name": "stdout",
     "output_type": "stream",
     "text": [
      "target       0      1  not_paid_off\n",
      "binned                             \n",
      "(0, 5]     920   6573     12.278126\n",
      "(5, 10]   2006  13261     13.139451\n",
      "(10, 15]  3020  17641     14.616911\n",
      "(15, 20]  3374  17463     16.192350\n",
      "(20, 30]  4107  18553     18.124448\n",
      "(30, 40]   509   1946     20.733198\n"
     ]
    },
    {
     "data": {
      "image/png": "[encoded data removed]",
      "text/plain": [
       "<Figure size 432x288 with 1 Axes>"
      ]
     },
     "metadata": {
      "needs_background": "light"
     },
     "output_type": "display_data"
    }
   ],
   "source": [
    "# visual the result with binned categories\n",
    "bins = [0, 5, 10, 15, 20, 30, 40]\n",
    "dti_table = lend_ml.copy()\n",
    "dti_table['binned'] = pd.cut(dti_table['dti'], bins=bins)\n",
    "table_dti = pd.crosstab(dti_table['binned'], dti_table['target']).sort_index()\n",
    "table_dti['not_paid_off'] = table_dti[0]/(table_dti[0]+table_dti[1])*100\n",
    "print(table_dti)\n",
    "table_dti['not_paid_off'].plot(kind='bar');"
   ]
  },
  {
   "cell_type": "markdown",
   "metadata": {},
   "source": [
    "The binned category shows that DTI is positively related to loan default."
   ]
  },
  {
   "cell_type": "markdown",
   "metadata": {},
   "source": [
    "DTI at the category of 5 bins level has dependence to the loan paid off rates. It shows that lower DTI has lower default rates. A new feature column will be added into the dataset during machine learning process."
   ]
  },
  {
   "cell_type": "markdown",
   "metadata": {},
   "source": [
    "#### Number of credit lines"
   ]
  },
  {
   "cell_type": "code",
   "execution_count": 13,
   "metadata": {},
   "outputs": [
    {
     "name": "stdout",
     "output_type": "stream",
     "text": [
      "chi_statistic: 117.419\n",
      "p-value: 0.01\n",
      "degree of freedom: 82\n",
      "Dependent (reject H0)\n"
     ]
    }
   ],
   "source": [
    "chi_square('total_acc')"
   ]
  },
  {
   "cell_type": "markdown",
   "metadata": {},
   "source": [
    "- Number of credit lines has dependence to the loan paid off rates"
   ]
  },
  {
   "cell_type": "code",
   "execution_count": 14,
   "metadata": {},
   "outputs": [
    {
     "name": "stdout",
     "output_type": "stream",
     "text": [
      "target        0      1  not_paid_off\n",
      "binned                              \n",
      "(0, 5]      307   1355     18.471721\n",
      "(5, 10]    1427   7168     16.602676\n",
      "(10, 15]   2323  12094     16.112922\n",
      "(15, 20]   2559  13926     15.523203\n",
      "(20, 30]   4230  23508     15.249838\n",
      "(30, 40]   2097  11755     15.138608\n",
      "(40, 60]    957   5389     15.080366\n",
      "(60, 100]    66    388     14.537445\n"
     ]
    },
    {
     "data": {
      "image/png": "[encoded data removed]",
      "text/plain": [
       "<Figure size 432x288 with 1 Axes>"
      ]
     },
     "metadata": {
      "needs_background": "light"
     },
     "output_type": "display_data"
    }
   ],
   "source": [
    "# visual the result with binned categories\n",
    "bins = [0, 5, 10, 15, 20, 30, 40, 60, 100]\n",
    "ttl_acc_table = lend_ml.copy()\n",
    "ttl_acc_table['binned'] = pd.cut(ttl_acc_table['total_acc'], bins=bins)\n",
    "table_ttl_acc = pd.crosstab(ttl_acc_table['binned'], ttl_acc_table['target']).sort_index()\n",
    "table_ttl_acc['not_paid_off'] = table_ttl_acc[0]/(table_ttl_acc[0]+table_ttl_acc[1])*100\n",
    "print(table_ttl_acc)\n",
    "table_ttl_acc['not_paid_off'].plot(kind='bar');"
   ]
  },
  {
   "cell_type": "markdown",
   "metadata": {},
   "source": [
    "- Surprise to see that applicants who have more credit lines are less likely to be default. It may mean that either those applicants are very savvy as it comes to paid off debt or they default on other credit lines, but not the one with Lending Club."
   ]
  },
  {
   "cell_type": "markdown",
   "metadata": {},
   "source": [
    "#### Applicant's State"
   ]
  },
  {
   "cell_type": "code",
   "execution_count": 15,
   "metadata": {},
   "outputs": [
    {
     "name": "stdout",
     "output_type": "stream",
     "text": [
      "chi_statistic: 180.373\n",
      "p-value: 0.00\n",
      "degree of freedom: 47\n",
      "Dependent (reject H0)\n",
      "target          0      1    All  paid_off_rate\n",
      "addr_state                                    \n",
      "TN              0      1      1     100.000000\n",
      "MS              0      2      2     100.000000\n",
      "IA              0      1      1     100.000000\n",
      "DC             21    337    358      94.134078\n",
      "WY             17    186    203      91.625616\n",
      "WV             42    346    388      89.175258\n",
      "NH             47    358    405      88.395062\n",
      "KS             95    637    732      87.021858\n",
      "IL            463   3041   3504      86.786530\n",
      "TX            901   5861   6762      86.675540\n",
      "AK             34    218    252      86.507937\n",
      "CO            237   1468   1705      86.099707\n",
      "DE             33    197    230      85.652174\n",
      "MT             35    207    242      85.537190\n",
      "MA            372   2194   2566      85.502728\n",
      "SD             26    153    179      85.474860\n",
      "PA            461   2687   3148      85.355781\n",
      "OR            160    916   1076      85.130112\n",
      "VA            437   2500   2937      85.120872\n",
      "OK            108    615    723      85.062241\n",
      "KY            116    660    776      85.051546\n",
      "CT            235   1329   1564      84.974425\n",
      "MN            217   1227   1444      84.972299\n",
      "OH            403   2278   2681      84.968295\n",
      "LA            162    893   1055      84.644550\n",
      "All         13966  75583  89549      84.404069\n",
      "WI            164    885   1049      84.366063\n",
      "SC            164    882   1046      84.321224\n",
      "GA            459   2443   2902      84.183322\n",
      "NC            370   1969   2339      84.181274\n",
      "AZ            315   1661   1976      84.058704\n",
      "CA           2511  13173  15684      83.990054\n",
      "AR            106    551    657      83.866058\n",
      "NY           1390   7203   8593      83.824043\n",
      "VT             29    150    179      83.798883\n",
      "UT             99    511    610      83.770492\n",
      "WA            325   1657   1982      83.602422\n",
      "MD            351   1783   2134      83.552015\n",
      "AL            188    927   1115      83.139013\n",
      "NJ            642   3147   3789      83.056215\n",
      "MI            317   1548   1865      83.002681\n",
      "MO            257   1243   1500      82.866667\n",
      "HI             82    394    476      82.773109\n",
      "NM             78    365    443      82.392777\n",
      "FL           1172   5415   6587      82.207378\n",
      "RI             75    344    419      82.100239\n",
      "NV            239   1004   1243      80.772325\n",
      "IN             10     16     26      61.538462\n",
      "NE              1      0      1       0.000000\n"
     ]
    }
   ],
   "source": [
    "chi_square('addr_state')\n",
    "table_state = pd.crosstab(lend_ml['addr_state'], lend_ml['target'], margins=True)\n",
    "table_state['paid_off_rate'] = table_state[1]/(table_state[1] + table_state[0])*100\n",
    "print(table_state.sort_values(by='paid_off_rate', ascending=False))"
   ]
  },
  {
   "cell_type": "markdown",
   "metadata": {},
   "source": [
    "Applicant's State shows dependence to loan paid off rates.\n",
    "\n",
    "Notice that TN and IA have 100% paid off rate, but they only have 1 records each, hence we don't have big enough sample to conclude that all applicants from both states will always repay their loans.\n",
    "\n",
    "In the machine learning part, we will replace small state label (<200 records) as \"SML\" to avoid overfit for this feature."
   ]
  },
  {
   "cell_type": "markdown",
   "metadata": {},
   "source": [
    "### Conclusion\n",
    "Loan purpose, home ownership, credit history, DTI, number of credit lines, and applicant's State show dependence to the loan paid off rates. We will adopt all features in machine learning \n",
    "\n",
    "### Limitation\n",
    "The whole analysis assumes that there is no correlation among features. Each test is isolated to one features at a time versus target.\n",
    "\n",
    "[Back to README](https://github.com/sittingman/lending_repayment)"
   ]
  }
 ],
 "metadata": {
  "kernelspec": {
   "display_name": "Python 3",
   "language": "python",
   "name": "python3"
  },
  "language_info": {
   "codemirror_mode": {
    "name": "ipython",
    "version": 3
   },
   "file_extension": ".py",
   "mimetype": "text/x-python",
   "name": "python",
   "nbconvert_exporter": "python",
   "pygments_lexer": "ipython3",
   "version": "3.7.3"
  }
 },
 "nbformat": 4,
 "nbformat_minor": 2
}
