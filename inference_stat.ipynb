{
 "cells": [
  {
   "cell_type": "code",
   "execution_count": 1,
   "metadata": {},
   "outputs": [],
   "source": [
    "import pandas as pd\n",
    "import numpy as np\n",
    "from scipy import stats"
   ]
  },
  {
   "cell_type": "markdown",
   "metadata": {},
   "source": [
    "From the data exploratory exercise, we identified that loan purpose appears to have influence on the loans being paid off or not. To prove that the influence is statistically significant, we will run chi square test on it"
   ]
  },
  {
   "cell_type": "code",
   "execution_count": 2,
   "metadata": {},
   "outputs": [],
   "source": [
    "lend = pd.read_csv('data/lending_clean.csv')\n",
    "lend_post_2008 = lend[lend['loan_start_d'] >= '2009-1-1']"
   ]
  },
  {
   "cell_type": "markdown",
   "metadata": {},
   "source": [
    "Null Hypothesis - different loan purposes do not affect loan paid off rate\n",
    "\n",
    "Alternative Hypothesis - loan purposes affect paid off rate"
   ]
  },
  {
   "cell_type": "code",
   "execution_count": 3,
   "metadata": {},
   "outputs": [
    {
     "name": "stdout",
     "output_type": "stream",
     "text": [
      "target                 0      1\n",
      "purpose                        \n",
      "car                  140   1263\n",
      "credit_card          499   4073\n",
      "debt_consolidation  2648  14608\n",
      "educational           32    127\n",
      "home_improvement     346   2417\n",
      "house                 56    288\n",
      "major_purchase       214   1854\n",
      "medical              103    524\n",
      "moving                91    442\n",
      "other                609   3018\n",
      "renewable_energy      20     80\n",
      "small_business       423   1120\n",
      "vacation              54    306\n",
      "wedding               87    740\n"
     ]
    }
   ],
   "source": [
    "table = pd.crosstab(lend_post_2008['purpose'], lend_post_2008['target'])\n",
    "print(table)"
   ]
  },
  {
   "cell_type": "code",
   "execution_count": 4,
   "metadata": {},
   "outputs": [],
   "source": [
    "stat, p, dof, expected = stats.chi2_contingency(table)"
   ]
  },
  {
   "cell_type": "code",
   "execution_count": 5,
   "metadata": {},
   "outputs": [
    {
     "name": "stdout",
     "output_type": "stream",
     "text": [
      "Dependent (reject H0)\n"
     ]
    }
   ],
   "source": [
    "# interpret p-value, using 95% confident level\n",
    "prob = 0.95\n",
    "alpha = 1.0 - prob\n",
    "if p <= alpha:\n",
    "    print('Dependent (reject H0)')\n",
    "else:\n",
    "    print('Independent (fail to reject H0)')"
   ]
  },
  {
   "cell_type": "markdown",
   "metadata": {},
   "source": [
    "Conclude that loan_purpose has impact on the loan paid off rates"
   ]
  },
  {
   "cell_type": "markdown",
   "metadata": {},
   "source": [
    "Additionally, the following attributes will be test as well per exploratory analysis\n",
    "\n",
    "- Credit history\n",
    "- DTI\n",
    "- Number of credit lines "
   ]
  },
  {
   "cell_type": "code",
   "execution_count": 6,
   "metadata": {},
   "outputs": [],
   "source": [
    "# write a function to streamline the testing steps\n",
    "def chi_square(data):\n",
    "    table = pd.crosstab(lend_post_2008[data], lend_post_2008['target'])\n",
    "    stat, p, dof, expected = stats.chi2_contingency(table)\n",
    "    prob = 0.95\n",
    "    alpha = 1.0 - prob\n",
    "    if p <= alpha:\n",
    "        print('Dependent (reject H0)')\n",
    "    else:\n",
    "        print('Independent (fail to reject H0)')"
   ]
  },
  {
   "cell_type": "code",
   "execution_count": 7,
   "metadata": {},
   "outputs": [
    {
     "name": "stdout",
     "output_type": "stream",
     "text": [
      "Dependent (reject H0)\n"
     ]
    }
   ],
   "source": [
    "# Credit history\n",
    "chi_square('yr_credit')"
   ]
  },
  {
   "cell_type": "code",
   "execution_count": 8,
   "metadata": {},
   "outputs": [
    {
     "name": "stdout",
     "output_type": "stream",
     "text": [
      "Independent (fail to reject H0)\n"
     ]
    }
   ],
   "source": [
    "# DTI\n",
    "chi_square('dti')"
   ]
  },
  {
   "cell_type": "code",
   "execution_count": 9,
   "metadata": {},
   "outputs": [
    {
     "name": "stdout",
     "output_type": "stream",
     "text": [
      "Dependent (reject H0)\n"
     ]
    }
   ],
   "source": [
    "# number of credit line\n",
    "chi_square('total_acc')"
   ]
  },
  {
   "cell_type": "markdown",
   "metadata": {},
   "source": [
    "Conclude that credit history and number of credit line have impact on the loan paid off rates, while DTI does not"
   ]
  }
 ],
 "metadata": {
  "kernelspec": {
   "display_name": "Python 3",
   "language": "python",
   "name": "python3"
  },
  "language_info": {
   "codemirror_mode": {
    "name": "ipython",
    "version": 3
   },
   "file_extension": ".py",
   "mimetype": "text/x-python",
   "name": "python",
   "nbconvert_exporter": "python",
   "pygments_lexer": "ipython3",
   "version": "3.6.5"
  }
 },
 "nbformat": 4,
 "nbformat_minor": 2
}
