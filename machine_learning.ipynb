{
 "cells": [
  {
   "cell_type": "code",
   "execution_count": 1,
   "metadata": {},
   "outputs": [],
   "source": [
    "# Initial setup\n",
    "import pandas as pd\n",
    "import numpy as np\n",
    "import matplotlib.pyplot as plt\n",
    "import seaborn as sns\n",
    "import datetime as dt\n",
    "from sklearn.model_selection import train_test_split\n",
    "from sklearn.linear_model import LogisticRegression\n",
    "from sklearn.ensemble import RandomForestClassifier\n",
    "from sklearn.model_selection import KFold\n",
    "from sklearn.metrics import classification_report, confusion_matrix\n",
    "from sklearn.metrics import precision_recall_curve\n",
    "from sklearn.metrics import precision_score\n",
    "from sklearn.metrics import recall_score\n",
    "from sklearn.metrics import f1_score\n",
    "from sklearn.model_selection import GridSearchCV\n",
    "plt.style.use('seaborn-white')\n",
    "%matplotlib inline"
   ]
  },
  {
   "cell_type": "code",
   "execution_count": 2,
   "metadata": {},
   "outputs": [
    {
     "data": {
      "text/html": [
       "<div>\n",
       "<style scoped>\n",
       "    .dataframe tbody tr th:only-of-type {\n",
       "        vertical-align: middle;\n",
       "    }\n",
       "\n",
       "    .dataframe tbody tr th {\n",
       "        vertical-align: top;\n",
       "    }\n",
       "\n",
       "    .dataframe thead th {\n",
       "        text-align: right;\n",
       "    }\n",
       "</style>\n",
       "<table border=\"1\" class=\"dataframe\">\n",
       "  <thead>\n",
       "    <tr style=\"text-align: right;\">\n",
       "      <th></th>\n",
       "      <th>home_ownership</th>\n",
       "      <th>purpose</th>\n",
       "      <th>yr_credit</th>\n",
       "      <th>dti</th>\n",
       "      <th>revol_util_dec</th>\n",
       "      <th>total_acc</th>\n",
       "      <th>addr_state</th>\n",
       "      <th>target</th>\n",
       "    </tr>\n",
       "  </thead>\n",
       "  <tbody>\n",
       "    <tr>\n",
       "      <th>0</th>\n",
       "      <td>RENT</td>\n",
       "      <td>credit_card</td>\n",
       "      <td>26.0</td>\n",
       "      <td>27.65</td>\n",
       "      <td>0.837</td>\n",
       "      <td>9.0</td>\n",
       "      <td>AZ</td>\n",
       "      <td>1</td>\n",
       "    </tr>\n",
       "    <tr>\n",
       "      <th>1</th>\n",
       "      <td>RENT</td>\n",
       "      <td>car</td>\n",
       "      <td>12.0</td>\n",
       "      <td>1.00</td>\n",
       "      <td>0.094</td>\n",
       "      <td>4.0</td>\n",
       "      <td>GA</td>\n",
       "      <td>0</td>\n",
       "    </tr>\n",
       "    <tr>\n",
       "      <th>2</th>\n",
       "      <td>RENT</td>\n",
       "      <td>small_business</td>\n",
       "      <td>10.0</td>\n",
       "      <td>8.72</td>\n",
       "      <td>0.985</td>\n",
       "      <td>10.0</td>\n",
       "      <td>IL</td>\n",
       "      <td>1</td>\n",
       "    </tr>\n",
       "    <tr>\n",
       "      <th>3</th>\n",
       "      <td>RENT</td>\n",
       "      <td>other</td>\n",
       "      <td>15.0</td>\n",
       "      <td>20.00</td>\n",
       "      <td>2.100</td>\n",
       "      <td>37.0</td>\n",
       "      <td>CA</td>\n",
       "      <td>1</td>\n",
       "    </tr>\n",
       "    <tr>\n",
       "      <th>4</th>\n",
       "      <td>RENT</td>\n",
       "      <td>other</td>\n",
       "      <td>15.0</td>\n",
       "      <td>17.94</td>\n",
       "      <td>0.539</td>\n",
       "      <td>38.0</td>\n",
       "      <td>OR</td>\n",
       "      <td>1</td>\n",
       "    </tr>\n",
       "  </tbody>\n",
       "</table>\n",
       "</div>"
      ],
      "text/plain": [
       "  home_ownership         purpose  yr_credit    dti  revol_util_dec  total_acc  \\\n",
       "0           RENT     credit_card       26.0  27.65           0.837        9.0   \n",
       "1           RENT             car       12.0   1.00           0.094        4.0   \n",
       "2           RENT  small_business       10.0   8.72           0.985       10.0   \n",
       "3           RENT           other       15.0  20.00           2.100       37.0   \n",
       "4           RENT           other       15.0  17.94           0.539       38.0   \n",
       "\n",
       "  addr_state  target  \n",
       "0         AZ       1  \n",
       "1         GA       0  \n",
       "2         IL       1  \n",
       "3         CA       1  \n",
       "4         OR       1  "
      ]
     },
     "metadata": {},
     "output_type": "display_data"
    },
    {
     "name": "stdout",
     "output_type": "stream",
     "text": [
      "(36182, 8)\n"
     ]
    }
   ],
   "source": [
    "# Read off data\n",
    "lend = pd.read_csv('data/lending_ml.csv')\n",
    "display(lend.head())\n",
    "print(lend.shape)"
   ]
  },
  {
   "cell_type": "markdown",
   "metadata": {},
   "source": [
    "#### This is a classification problem. \n",
    "\n",
    "The features being selected are homeownership, loan purpose, years of credit, debt to income ratio (DTI), % of credit usage, total credit lines, applicant's State"
   ]
  },
  {
   "cell_type": "markdown",
   "metadata": {},
   "source": [
    "### Features Engineering"
   ]
  },
  {
   "cell_type": "markdown",
   "metadata": {},
   "source": [
    "1. Get dummy variable for purpose and home_ownership"
   ]
  },
  {
   "cell_type": "code",
   "execution_count": 3,
   "metadata": {},
   "outputs": [
    {
     "data": {
      "text/html": [
       "<div>\n",
       "<style scoped>\n",
       "    .dataframe tbody tr th:only-of-type {\n",
       "        vertical-align: middle;\n",
       "    }\n",
       "\n",
       "    .dataframe tbody tr th {\n",
       "        vertical-align: top;\n",
       "    }\n",
       "\n",
       "    .dataframe thead th {\n",
       "        text-align: right;\n",
       "    }\n",
       "</style>\n",
       "<table border=\"1\" class=\"dataframe\">\n",
       "  <thead>\n",
       "    <tr style=\"text-align: right;\">\n",
       "      <th></th>\n",
       "      <th>home_ownership</th>\n",
       "      <th>purpose</th>\n",
       "      <th>yr_credit</th>\n",
       "      <th>dti</th>\n",
       "      <th>revol_util_dec</th>\n",
       "      <th>total_acc</th>\n",
       "      <th>addr_state</th>\n",
       "      <th>target</th>\n",
       "      <th>OTHER</th>\n",
       "      <th>OWN</th>\n",
       "      <th>...</th>\n",
       "      <th>home_improvement</th>\n",
       "      <th>house</th>\n",
       "      <th>major_purchase</th>\n",
       "      <th>medical</th>\n",
       "      <th>moving</th>\n",
       "      <th>other</th>\n",
       "      <th>renewable_energy</th>\n",
       "      <th>small_business</th>\n",
       "      <th>vacation</th>\n",
       "      <th>wedding</th>\n",
       "    </tr>\n",
       "  </thead>\n",
       "  <tbody>\n",
       "    <tr>\n",
       "      <th>0</th>\n",
       "      <td>RENT</td>\n",
       "      <td>credit_card</td>\n",
       "      <td>26.0</td>\n",
       "      <td>27.65</td>\n",
       "      <td>0.837</td>\n",
       "      <td>9.0</td>\n",
       "      <td>AZ</td>\n",
       "      <td>1</td>\n",
       "      <td>0</td>\n",
       "      <td>0</td>\n",
       "      <td>...</td>\n",
       "      <td>0</td>\n",
       "      <td>0</td>\n",
       "      <td>0</td>\n",
       "      <td>0</td>\n",
       "      <td>0</td>\n",
       "      <td>0</td>\n",
       "      <td>0</td>\n",
       "      <td>0</td>\n",
       "      <td>0</td>\n",
       "      <td>0</td>\n",
       "    </tr>\n",
       "    <tr>\n",
       "      <th>1</th>\n",
       "      <td>RENT</td>\n",
       "      <td>car</td>\n",
       "      <td>12.0</td>\n",
       "      <td>1.00</td>\n",
       "      <td>0.094</td>\n",
       "      <td>4.0</td>\n",
       "      <td>GA</td>\n",
       "      <td>0</td>\n",
       "      <td>0</td>\n",
       "      <td>0</td>\n",
       "      <td>...</td>\n",
       "      <td>0</td>\n",
       "      <td>0</td>\n",
       "      <td>0</td>\n",
       "      <td>0</td>\n",
       "      <td>0</td>\n",
       "      <td>0</td>\n",
       "      <td>0</td>\n",
       "      <td>0</td>\n",
       "      <td>0</td>\n",
       "      <td>0</td>\n",
       "    </tr>\n",
       "    <tr>\n",
       "      <th>2</th>\n",
       "      <td>RENT</td>\n",
       "      <td>small_business</td>\n",
       "      <td>10.0</td>\n",
       "      <td>8.72</td>\n",
       "      <td>0.985</td>\n",
       "      <td>10.0</td>\n",
       "      <td>IL</td>\n",
       "      <td>1</td>\n",
       "      <td>0</td>\n",
       "      <td>0</td>\n",
       "      <td>...</td>\n",
       "      <td>0</td>\n",
       "      <td>0</td>\n",
       "      <td>0</td>\n",
       "      <td>0</td>\n",
       "      <td>0</td>\n",
       "      <td>0</td>\n",
       "      <td>0</td>\n",
       "      <td>1</td>\n",
       "      <td>0</td>\n",
       "      <td>0</td>\n",
       "    </tr>\n",
       "    <tr>\n",
       "      <th>3</th>\n",
       "      <td>RENT</td>\n",
       "      <td>other</td>\n",
       "      <td>15.0</td>\n",
       "      <td>20.00</td>\n",
       "      <td>2.100</td>\n",
       "      <td>37.0</td>\n",
       "      <td>CA</td>\n",
       "      <td>1</td>\n",
       "      <td>0</td>\n",
       "      <td>0</td>\n",
       "      <td>...</td>\n",
       "      <td>0</td>\n",
       "      <td>0</td>\n",
       "      <td>0</td>\n",
       "      <td>0</td>\n",
       "      <td>0</td>\n",
       "      <td>1</td>\n",
       "      <td>0</td>\n",
       "      <td>0</td>\n",
       "      <td>0</td>\n",
       "      <td>0</td>\n",
       "    </tr>\n",
       "    <tr>\n",
       "      <th>4</th>\n",
       "      <td>RENT</td>\n",
       "      <td>other</td>\n",
       "      <td>15.0</td>\n",
       "      <td>17.94</td>\n",
       "      <td>0.539</td>\n",
       "      <td>38.0</td>\n",
       "      <td>OR</td>\n",
       "      <td>1</td>\n",
       "      <td>0</td>\n",
       "      <td>0</td>\n",
       "      <td>...</td>\n",
       "      <td>0</td>\n",
       "      <td>0</td>\n",
       "      <td>0</td>\n",
       "      <td>0</td>\n",
       "      <td>0</td>\n",
       "      <td>1</td>\n",
       "      <td>0</td>\n",
       "      <td>0</td>\n",
       "      <td>0</td>\n",
       "      <td>0</td>\n",
       "    </tr>\n",
       "  </tbody>\n",
       "</table>\n",
       "<p>5 rows × 24 columns</p>\n",
       "</div>"
      ],
      "text/plain": [
       "  home_ownership         purpose  yr_credit    dti  revol_util_dec  total_acc  \\\n",
       "0           RENT     credit_card       26.0  27.65           0.837        9.0   \n",
       "1           RENT             car       12.0   1.00           0.094        4.0   \n",
       "2           RENT  small_business       10.0   8.72           0.985       10.0   \n",
       "3           RENT           other       15.0  20.00           2.100       37.0   \n",
       "4           RENT           other       15.0  17.94           0.539       38.0   \n",
       "\n",
       "  addr_state  target  OTHER  OWN  ...  home_improvement  house  \\\n",
       "0         AZ       1      0    0  ...                 0      0   \n",
       "1         GA       0      0    0  ...                 0      0   \n",
       "2         IL       1      0    0  ...                 0      0   \n",
       "3         CA       1      0    0  ...                 0      0   \n",
       "4         OR       1      0    0  ...                 0      0   \n",
       "\n",
       "   major_purchase  medical  moving  other  renewable_energy  small_business  \\\n",
       "0               0        0       0      0                 0               0   \n",
       "1               0        0       0      0                 0               0   \n",
       "2               0        0       0      0                 0               1   \n",
       "3               0        0       0      1                 0               0   \n",
       "4               0        0       0      1                 0               0   \n",
       "\n",
       "   vacation  wedding  \n",
       "0         0        0  \n",
       "1         0        0  \n",
       "2         0        0  \n",
       "3         0        0  \n",
       "4         0        0  \n",
       "\n",
       "[5 rows x 24 columns]"
      ]
     },
     "metadata": {},
     "output_type": "display_data"
    }
   ],
   "source": [
    "purpose = pd.get_dummies(lend['purpose'], drop_first=True)\n",
    "home_own = pd.get_dummies(lend['home_ownership'], drop_first=True)\n",
    "lend = pd.concat([lend, home_own, purpose], axis=1)\n",
    "\n",
    "display(lend.head())"
   ]
  },
  {
   "cell_type": "markdown",
   "metadata": {},
   "source": [
    "2. Get dummy variable for addr_state\n",
    "\n",
    "    - From [inference statistic](https://github.com/sittingman/lending_repayment/blob/master/inference_stat.ipynb) analysis, some states such as IA and MS have so only one record each that treating those labels as a feature may run into overfit problem later. \n",
    "\n",
    "    - We will replace state label that has <200 records as 'SML' to have the model recognize them as a group in the feature."
   ]
  },
  {
   "cell_type": "code",
   "execution_count": 4,
   "metadata": {},
   "outputs": [],
   "source": [
    "# create a crosstab to get count by states\n",
    "table_state = pd.crosstab(lend['addr_state'], lend['target'], margins=True)\n",
    "\n",
    "# filter for states that have more than 200 records, put that into list\n",
    "LT_list = table_state[table_state['All'] > 200].index.tolist()"
   ]
  },
  {
   "cell_type": "code",
   "execution_count": 5,
   "metadata": {},
   "outputs": [],
   "source": [
    "lend['helper_col'] = ~(lend['addr_state'].isin(LT_list)) # finding state records that do not match the LT_list"
   ]
  },
  {
   "cell_type": "code",
   "execution_count": 6,
   "metadata": {},
   "outputs": [],
   "source": [
    "# if helper column is True, the record is from a small state, replace with 'SML', otherwise no change to the state label\n",
    "lend['state'] = np.where(lend.helper_col == 1, 'SML', lend.addr_state)"
   ]
  },
  {
   "cell_type": "code",
   "execution_count": 7,
   "metadata": {},
   "outputs": [],
   "source": [
    "# get dummy variables\n",
    "state = pd.get_dummies(lend['state'], drop_first = True)\n",
    "lend = pd.concat([lend, state], axis=1)"
   ]
  },
  {
   "cell_type": "markdown",
   "metadata": {},
   "source": [
    "3. Get categorical feature column label for DTI grouping\n",
    "\n",
    "    - from [inference statistic](https://github.com/sittingman/lending_repayment/blob/master/inference_stat.ipynb), DTI at the individual level does not show dependence on the loan paid off rate, but at the binning level it does. \n",
    "    - We will create a new column to hold the categorical DTI."
   ]
  },
  {
   "cell_type": "code",
   "execution_count": 8,
   "metadata": {},
   "outputs": [],
   "source": [
    "# crate function for grouping dti based on the value range\n",
    "def dti(data):\n",
    "    if data['dti'] <= 5: return 5\n",
    "    elif (data['dti'] > 5) & (data['dti'] <=10) : return 10\n",
    "    elif (data['dti'] > 10) & (data['dti'] <=15) : return 15\n",
    "    elif (data['dti'] > 15) & (data['dti'] <=20) : return 20\n",
    "    elif (data['dti'] > 20) & (data['dti'] <=30) : return 30\n",
    "    elif (data['dti'] > 30): return 'high'"
   ]
  },
  {
   "cell_type": "code",
   "execution_count": 9,
   "metadata": {},
   "outputs": [],
   "source": [
    "lend['dti_gp'] = lend.apply(dti, axis=1)"
   ]
  },
  {
   "cell_type": "code",
   "execution_count": 10,
   "metadata": {},
   "outputs": [],
   "source": [
    "dti_gp = pd.get_dummies(lend['dti_gp'], drop_first = True)\n",
    "lend = pd.concat([lend, dti_gp], axis = 1)"
   ]
  },
  {
   "cell_type": "markdown",
   "metadata": {},
   "source": [
    "4. fillna for missing records under revol_util_dec"
   ]
  },
  {
   "cell_type": "code",
   "execution_count": 11,
   "metadata": {},
   "outputs": [],
   "source": [
    "lend['revol'] = lend['revol_util_dec'].fillna(0)"
   ]
  },
  {
   "cell_type": "code",
   "execution_count": 12,
   "metadata": {},
   "outputs": [
    {
     "name": "stdout",
     "output_type": "stream",
     "text": [
      "Index([         'yr_credit',          'total_acc',             'target',\n",
      "                    'OTHER',                'OWN',               'RENT',\n",
      "              'credit_card', 'debt_consolidation',        'educational',\n",
      "         'home_improvement',              'house',     'major_purchase',\n",
      "                  'medical',             'moving',              'other',\n",
      "         'renewable_energy',     'small_business',           'vacation',\n",
      "                  'wedding',                 'AR',                 'AZ',\n",
      "                       'CA',                 'CO',                 'CT',\n",
      "                       'FL',                 'GA',                 'IL',\n",
      "                       'KS',                 'KY',                 'LA',\n",
      "                       'MA',                 'MD',                 'MI',\n",
      "                       'MN',                 'MO',                 'NC',\n",
      "                       'NJ',                 'NV',                 'NY',\n",
      "                       'OH',                 'OK',                 'OR',\n",
      "                       'PA',                 'SC',                'SML',\n",
      "                       'TX',                 'UT',                 'VA',\n",
      "                       'WA',                 'WI',                   10,\n",
      "                         15,                   20,                   30,\n",
      "                    'revol'],\n",
      "      dtype='object')\n"
     ]
    }
   ],
   "source": [
    "# drop the redunant columns and form the final dataframe for machine learning\n",
    "lend_fin = lend.drop(['home_ownership','addr_state', 'helper_col', 'dti_gp', 'dti', 'state', 'purpose', 'revol_util_dec'], axis=1)\n",
    "print(lend_fin.columns)"
   ]
  },
  {
   "cell_type": "code",
   "execution_count": 13,
   "metadata": {},
   "outputs": [
    {
     "data": {
      "text/plain": [
       "False"
      ]
     },
     "execution_count": 13,
     "metadata": {},
     "output_type": "execute_result"
    }
   ],
   "source": [
    "# Final check to confirm that there is no missing values\n",
    "lend_fin.isnull().values.any()"
   ]
  },
  {
   "cell_type": "markdown",
   "metadata": {},
   "source": [
    "#### Create features and target numpy array"
   ]
  },
  {
   "cell_type": "code",
   "execution_count": 14,
   "metadata": {},
   "outputs": [
    {
     "name": "stdout",
     "output_type": "stream",
     "text": [
      "(36182, 54)\n",
      "(36182,)\n"
     ]
    }
   ],
   "source": [
    "features = lend_fin.drop(['target'], axis=1).values\n",
    "target = lend_fin.target.values\n",
    "\n",
    "# check shape of the features and target sets\n",
    "print(features.shape)\n",
    "print(target.shape)"
   ]
  },
  {
   "cell_type": "markdown",
   "metadata": {},
   "source": [
    "### Baseline Model\n",
    "\n",
    "Assume targets to be all 1s or 0s. We use F1 score for evaluation."
   ]
  },
  {
   "cell_type": "code",
   "execution_count": 15,
   "metadata": {},
   "outputs": [
    {
     "name": "stdout",
     "output_type": "stream",
     "text": [
      "Baseline F1 score 0.9206\n"
     ]
    }
   ],
   "source": [
    "print('Baseline F1 score {:.4}'.format(f1_score(target, np.ones(len(target)))))"
   ]
  },
  {
   "cell_type": "markdown",
   "metadata": {},
   "source": [
    "Achieve 0.9206 for F1 score, which is quite high to begin with. This could be a result of Lending Club credit underwriting policy that has already filtered out many loans loans to begin with. As a result, we have imbalance dataset (i.e. more 1s than 0s).\n",
    "\n",
    "Our goal is to see if we can further improve on the F1 score though models below."
   ]
  },
  {
   "cell_type": "code",
   "execution_count": 16,
   "metadata": {},
   "outputs": [
    {
     "name": "stdout",
     "output_type": "stream",
     "text": [
      "(27136, 54)\n",
      "(9046, 54)\n",
      "(27136,)\n",
      "(9046,)\n"
     ]
    }
   ],
   "source": [
    "# Split the data into a training and test set to be used for all models training\n",
    "X_train, X_test, y_train, y_test = train_test_split(features, target, test_size = .25, random_state=5)\n",
    "print(X_train.shape)\n",
    "print(X_test.shape)\n",
    "print(y_train.shape)\n",
    "print(y_test.shape)"
   ]
  },
  {
   "cell_type": "markdown",
   "metadata": {},
   "source": [
    "### Apply Logistic Regression\n",
    "\n",
    "**Base Model**"
   ]
  },
  {
   "cell_type": "code",
   "execution_count": 17,
   "metadata": {},
   "outputs": [
    {
     "name": "stdout",
     "output_type": "stream",
     "text": [
      "Logistic Regression F1 score 0.9207\n"
     ]
    }
   ],
   "source": [
    "clf = LogisticRegression(solver='liblinear')\n",
    "# Fit the model on the trainng data.\n",
    "clf.fit(X_train, y_train)\n",
    "# Print the accuracy from the testing data.\n",
    "y_pred_clf = clf.predict(X_test)\n",
    "print('Logistic Regression F1 score {:.4}'.format(f1_score(y_test, y_pred_clf)))"
   ]
  },
  {
   "cell_type": "code",
   "execution_count": 18,
   "metadata": {},
   "outputs": [],
   "source": [
    "# Cross validation\n",
    "def cv_score(clf, x, y, score_func=f1_score):\n",
    "    result = 0\n",
    "    nfold = 5\n",
    "    for train, test in KFold(nfold).split(x): # split data into train/test groups, 5 times\n",
    "        clf.fit(x[train], y[train]) # fit\n",
    "        result += score_func(clf.predict(x[test]), y[test]) # evaluate score function on held-out data\n",
    "    return result / nfold # average"
   ]
  },
  {
   "cell_type": "code",
   "execution_count": 19,
   "metadata": {},
   "outputs": [
    {
     "name": "stdout",
     "output_type": "stream",
     "text": [
      "Cross validation F1 score for Logistic Regression without reguluarization: 0.9206\n"
     ]
    }
   ],
   "source": [
    "clf = LogisticRegression(solver='liblinear')\n",
    "score = cv_score(clf, X_train, y_train)\n",
    "print('Cross validation F1 score for Logistic Regression without reguluarization: {:.4}'. format(score))"
   ]
  },
  {
   "cell_type": "markdown",
   "metadata": {},
   "source": [
    "F1 score stays the same as the baseline."
   ]
  },
  {
   "cell_type": "markdown",
   "metadata": {},
   "source": [
    "#### Tunning Model"
   ]
  },
  {
   "cell_type": "code",
   "execution_count": 20,
   "metadata": {},
   "outputs": [
    {
     "name": "stdout",
     "output_type": "stream",
     "text": [
      "best parameter: {'C': 0.001}\n",
      "Logistic Regression (Tuned) F1 score 0.9207\n",
      "cross validation F1 score with best C: 0.9206\n"
     ]
    }
   ],
   "source": [
    "# Perform Grid search to look for the best C\n",
    "Cs = [0.001, 0.1, 1, 10, 100]\n",
    "gridsearch_lf = GridSearchCV(estimator=clf, param_grid={'C': Cs}, cv=5, scoring='f1')\n",
    "gridsearch_lf.fit(X_train, y_train)\n",
    "y_pred_clf_C = gridsearch_lf.best_estimator_.predict(X_test)\n",
    "print('best parameter: {}'.format(gridsearch_lf.best_params_))\n",
    "print('Logistic Regression (Tuned) F1 score {:.4}'.format(f1_score(y_test, y_pred_clf_C)))\n",
    "print('cross validation F1 score with best C: {:.4}'.format(gridsearch_lf.best_score_))"
   ]
  },
  {
   "cell_type": "markdown",
   "metadata": {},
   "source": [
    "No further improvement on F1 score. We will set C in the model as 0.001."
   ]
  },
  {
   "cell_type": "markdown",
   "metadata": {},
   "source": [
    "### Apply Random Forest\n",
    "\n",
    "#### Base Model"
   ]
  },
  {
   "cell_type": "code",
   "execution_count": 21,
   "metadata": {},
   "outputs": [],
   "source": [
    "# Create the model with 100 trees\n",
    "model = RandomForestClassifier(n_estimators=100, bootstrap = True, max_features = 'sqrt', random_state=33)\n",
    "\n",
    "model.fit(X_train, y_train)\n",
    "y_pred_rf = model.predict(X_test)"
   ]
  },
  {
   "cell_type": "code",
   "execution_count": 22,
   "metadata": {},
   "outputs": [
    {
     "name": "stdout",
     "output_type": "stream",
     "text": [
      "Random Forest F1 Score is 0.9171\n"
     ]
    }
   ],
   "source": [
    "print('Random Forest F1 Score is {:.4}'.format(f1_score(y_test, y_pred_rf)))"
   ]
  },
  {
   "cell_type": "code",
   "execution_count": 23,
   "metadata": {},
   "outputs": [
    {
     "name": "stdout",
     "output_type": "stream",
     "text": [
      "Cross validation F1 score for Random Forest without reguluarization: 0.9206\n"
     ]
    }
   ],
   "source": [
    "#Cross validation\n",
    "score_rf = cv_score(model, X_train, y_train)\n",
    "print('Cross validation F1 score for Random Forest without reguluarization: {:.4}'. format(score))"
   ]
  },
  {
   "cell_type": "markdown",
   "metadata": {},
   "source": [
    "The random forest baseline model, have the same performance as Logistic Regression, and equal to baseline model.\n",
    "\n",
    "We will tune parameters which may help improving the performance"
   ]
  },
  {
   "cell_type": "markdown",
   "metadata": {},
   "source": [
    "#### Tunning model\n",
    "\n",
    "We pick n_estimators, max_depth, and max_features to optimize as they are more important to Random Forest model."
   ]
  },
  {
   "cell_type": "code",
   "execution_count": 24,
   "metadata": {},
   "outputs": [],
   "source": [
    "param_grid = { \n",
    "    'n_estimators': [10, 100, 200, 500, 1000],\n",
    "    'max_depth' : [5, 10, 20, 50, 100],\n",
    "    'max_features' : ['auto', 'sqrt']\n",
    "}"
   ]
  },
  {
   "cell_type": "code",
   "execution_count": 25,
   "metadata": {},
   "outputs": [],
   "source": [
    "rfc = RandomForestClassifier(random_state=33, bootstrap=True, n_jobs=2)\n",
    "gridsearch_rf = GridSearchCV(estimator=rfc, param_grid=param_grid, cv= 5, n_jobs=3)"
   ]
  },
  {
   "cell_type": "code",
   "execution_count": 26,
   "metadata": {},
   "outputs": [
    {
     "data": {
      "text/plain": [
       "GridSearchCV(cv=5, error_score='raise-deprecating',\n",
       "       estimator=RandomForestClassifier(bootstrap=True, class_weight=None, criterion='gini',\n",
       "            max_depth=None, max_features='auto', max_leaf_nodes=None,\n",
       "            min_impurity_decrease=0.0, min_impurity_split=None,\n",
       "            min_samples_leaf=1, min_samples_split=2,\n",
       "            min_weight_fraction_leaf=0.0, n_estimators='warn', n_jobs=2,\n",
       "            oob_score=False, random_state=33, verbose=0, warm_start=False),\n",
       "       fit_params=None, iid='warn', n_jobs=3,\n",
       "       param_grid={'n_estimators': [10, 100, 200, 500, 1000], 'max_depth': [5, 10, 20, 50, 100], 'max_features': ['auto', 'sqrt']},\n",
       "       pre_dispatch='2*n_jobs', refit=True, return_train_score='warn',\n",
       "       scoring=None, verbose=0)"
      ]
     },
     "execution_count": 26,
     "metadata": {},
     "output_type": "execute_result"
    }
   ],
   "source": [
    "gridsearch_rf.fit(X_train, y_train)"
   ]
  },
  {
   "cell_type": "code",
   "execution_count": 27,
   "metadata": {},
   "outputs": [
    {
     "name": "stdout",
     "output_type": "stream",
     "text": [
      "best parameters: {'max_depth': 5, 'max_features': 'auto', 'n_estimators': 10}\n"
     ]
    }
   ],
   "source": [
    "print('best parameters: {}'.format(gridsearch_rf.best_params_))"
   ]
  },
  {
   "cell_type": "code",
   "execution_count": 29,
   "metadata": {},
   "outputs": [],
   "source": [
    "# predicting using the model with the best estimators\n",
    "y_pred_rf_tune = gridsearch_rf.best_estimator_.predict(X_test)"
   ]
  },
  {
   "cell_type": "code",
   "execution_count": 30,
   "metadata": {},
   "outputs": [
    {
     "name": "stdout",
     "output_type": "stream",
     "text": [
      "Random Forest (Tuned) F1 score: 0.9207\n",
      "Cross validation F1 score for Random Forest tuned: 0.8529\n"
     ]
    }
   ],
   "source": [
    "print('Random Forest (Tuned) F1 score: {:.4}'.format(f1_score(y_test,y_pred_rf_tune)))\n",
    "print('Cross validation F1 score for Random Forest tuned: {:.4}'. format(gridsearch_rf.best_score_))"
   ]
  },
  {
   "cell_type": "markdown",
   "metadata": {},
   "source": [
    "F1 score performance for tuned Random Forest perform worse than Logistic Regression and also baseline.\n",
    "\n",
    "We will stay with the base Random Forest classifier without tuning."
   ]
  },
  {
   "cell_type": "markdown",
   "metadata": {},
   "source": [
    "### Performance Summary\n",
    "\n",
    "|Model | F1 score (cross validated)|\n",
    "|----- | -------|\n",
    "|Baseline | 0.9206|\n",
    "|Logistic Regression | 0.9206 |\n",
    "|Random Forest | 0.9206 |\n",
    "\n",
    "Based on the F1 score results, it turns out that we don't have a winner that get higher F1 score than the baseline. "
   ]
  },
  {
   "cell_type": "markdown",
   "metadata": {},
   "source": [
    "### Measure errors"
   ]
  },
  {
   "cell_type": "code",
   "execution_count": 31,
   "metadata": {},
   "outputs": [
    {
     "name": "stdout",
     "output_type": "stream",
     "text": [
      "  home_ownership             purpose  yr_credit    dti  revol_util_dec  \\\n",
      "0       MORTGAGE  debt_consolidation       24.0  15.55           0.444   \n",
      "1           RENT  debt_consolidation       15.0  16.73           0.545   \n",
      "2       MORTGAGE  debt_consolidation       22.0  15.75           0.346   \n",
      "3       MORTGAGE  debt_consolidation       19.0  18.55           0.546   \n",
      "4           RENT  debt_consolidation       14.0  27.06           0.709   \n",
      "\n",
      "   total_acc addr_state  target  \n",
      "0       22.0         MA     1.0  \n",
      "1       41.0         NY     1.0  \n",
      "2       16.0         CO     0.0  \n",
      "3       31.0         CA     1.0  \n",
      "4       17.0         CA     1.0  \n",
      "(188180, 8)\n"
     ]
    }
   ],
   "source": [
    "# importing error test data (2012-2013)\n",
    "test_error = pd.read_csv('data\\lending_test.csv')\n",
    "test_error_1 = pd.read_csv('data\\lending_test.csv')\n",
    "print(test_error.head())\n",
    "print(test_error.shape)"
   ]
  },
  {
   "cell_type": "code",
   "execution_count": 32,
   "metadata": {},
   "outputs": [],
   "source": [
    "# Create a function for feature engineering steps above to streamline future data processing\n",
    "def data_clean(dataset):\n",
    "    purpose_f = pd.get_dummies(dataset['purpose'], drop_first=True)\n",
    "    home_own_f = pd.get_dummies(dataset['home_ownership'], drop_first=True)\n",
    "    dataset['helper_col'] = ~(dataset['addr_state'].isin(LT_list))\n",
    "    dataset['state'] = np.where(dataset.helper_col == 1, 'SML', dataset.addr_state)\n",
    "    state_f = pd.get_dummies(dataset['state'], drop_first = True)\n",
    "    dataset['dti_gp'] = dataset.apply(dti, axis=1)\n",
    "    dti_gp_f = pd.get_dummies(dataset['dti_gp'], drop_first=True)\n",
    "    dataset['revol'] = dataset['revol_util_dec'].fillna(0)\n",
    "    dataset = pd.concat([home_own_f, dataset, purpose_f, state_f, dti_gp], axis=1)    \n",
    "    dataset = dataset.drop(['home_ownership','addr_state', 'helper_col', 'dti_gp', 'dti', 'state', 'purpose', 'revol_util_dec'], axis=1)\n",
    "    return dataset"
   ]
  },
  {
   "cell_type": "code",
   "execution_count": 33,
   "metadata": {},
   "outputs": [],
   "source": [
    "test_error_clean = data_clean(test_error_1)"
   ]
  },
  {
   "cell_type": "code",
   "execution_count": 34,
   "metadata": {},
   "outputs": [
    {
     "data": {
      "text/html": [
       "<div>\n",
       "<style scoped>\n",
       "    .dataframe tbody tr th:only-of-type {\n",
       "        vertical-align: middle;\n",
       "    }\n",
       "\n",
       "    .dataframe tbody tr th {\n",
       "        vertical-align: top;\n",
       "    }\n",
       "\n",
       "    .dataframe thead th {\n",
       "        text-align: right;\n",
       "    }\n",
       "</style>\n",
       "<table border=\"1\" class=\"dataframe\">\n",
       "  <thead>\n",
       "    <tr style=\"text-align: right;\">\n",
       "      <th></th>\n",
       "      <th>NONE</th>\n",
       "      <th>OTHER</th>\n",
       "      <th>OWN</th>\n",
       "      <th>RENT</th>\n",
       "      <th>yr_credit</th>\n",
       "      <th>total_acc</th>\n",
       "      <th>target</th>\n",
       "      <th>revol</th>\n",
       "      <th>credit_card</th>\n",
       "      <th>debt_consolidation</th>\n",
       "      <th>...</th>\n",
       "      <th>SML</th>\n",
       "      <th>TX</th>\n",
       "      <th>UT</th>\n",
       "      <th>VA</th>\n",
       "      <th>WA</th>\n",
       "      <th>WI</th>\n",
       "      <th>10</th>\n",
       "      <th>15</th>\n",
       "      <th>20</th>\n",
       "      <th>30</th>\n",
       "    </tr>\n",
       "  </thead>\n",
       "  <tbody>\n",
       "    <tr>\n",
       "      <th>188175</th>\n",
       "      <td>0</td>\n",
       "      <td>0</td>\n",
       "      <td>0</td>\n",
       "      <td>1</td>\n",
       "      <td>25.0</td>\n",
       "      <td>20.0</td>\n",
       "      <td>1.0</td>\n",
       "      <td>0.584</td>\n",
       "      <td>0</td>\n",
       "      <td>1</td>\n",
       "      <td>...</td>\n",
       "      <td>0</td>\n",
       "      <td>0</td>\n",
       "      <td>0</td>\n",
       "      <td>0</td>\n",
       "      <td>0</td>\n",
       "      <td>0</td>\n",
       "      <td>NaN</td>\n",
       "      <td>NaN</td>\n",
       "      <td>NaN</td>\n",
       "      <td>NaN</td>\n",
       "    </tr>\n",
       "    <tr>\n",
       "      <th>188176</th>\n",
       "      <td>0</td>\n",
       "      <td>0</td>\n",
       "      <td>0</td>\n",
       "      <td>1</td>\n",
       "      <td>9.0</td>\n",
       "      <td>30.0</td>\n",
       "      <td>1.0</td>\n",
       "      <td>0.331</td>\n",
       "      <td>0</td>\n",
       "      <td>0</td>\n",
       "      <td>...</td>\n",
       "      <td>0</td>\n",
       "      <td>0</td>\n",
       "      <td>0</td>\n",
       "      <td>0</td>\n",
       "      <td>0</td>\n",
       "      <td>0</td>\n",
       "      <td>NaN</td>\n",
       "      <td>NaN</td>\n",
       "      <td>NaN</td>\n",
       "      <td>NaN</td>\n",
       "    </tr>\n",
       "    <tr>\n",
       "      <th>188177</th>\n",
       "      <td>0</td>\n",
       "      <td>0</td>\n",
       "      <td>0</td>\n",
       "      <td>0</td>\n",
       "      <td>13.0</td>\n",
       "      <td>17.0</td>\n",
       "      <td>1.0</td>\n",
       "      <td>0.624</td>\n",
       "      <td>0</td>\n",
       "      <td>0</td>\n",
       "      <td>...</td>\n",
       "      <td>0</td>\n",
       "      <td>0</td>\n",
       "      <td>0</td>\n",
       "      <td>0</td>\n",
       "      <td>0</td>\n",
       "      <td>0</td>\n",
       "      <td>NaN</td>\n",
       "      <td>NaN</td>\n",
       "      <td>NaN</td>\n",
       "      <td>NaN</td>\n",
       "    </tr>\n",
       "    <tr>\n",
       "      <th>188178</th>\n",
       "      <td>0</td>\n",
       "      <td>0</td>\n",
       "      <td>0</td>\n",
       "      <td>0</td>\n",
       "      <td>12.0</td>\n",
       "      <td>27.0</td>\n",
       "      <td>0.0</td>\n",
       "      <td>0.932</td>\n",
       "      <td>0</td>\n",
       "      <td>0</td>\n",
       "      <td>...</td>\n",
       "      <td>0</td>\n",
       "      <td>1</td>\n",
       "      <td>0</td>\n",
       "      <td>0</td>\n",
       "      <td>0</td>\n",
       "      <td>0</td>\n",
       "      <td>NaN</td>\n",
       "      <td>NaN</td>\n",
       "      <td>NaN</td>\n",
       "      <td>NaN</td>\n",
       "    </tr>\n",
       "    <tr>\n",
       "      <th>188179</th>\n",
       "      <td>0</td>\n",
       "      <td>0</td>\n",
       "      <td>0</td>\n",
       "      <td>1</td>\n",
       "      <td>10.0</td>\n",
       "      <td>25.0</td>\n",
       "      <td>1.0</td>\n",
       "      <td>0.379</td>\n",
       "      <td>1</td>\n",
       "      <td>0</td>\n",
       "      <td>...</td>\n",
       "      <td>0</td>\n",
       "      <td>0</td>\n",
       "      <td>0</td>\n",
       "      <td>1</td>\n",
       "      <td>0</td>\n",
       "      <td>0</td>\n",
       "      <td>NaN</td>\n",
       "      <td>NaN</td>\n",
       "      <td>NaN</td>\n",
       "      <td>NaN</td>\n",
       "    </tr>\n",
       "  </tbody>\n",
       "</table>\n",
       "<p>5 rows × 55 columns</p>\n",
       "</div>"
      ],
      "text/plain": [
       "        NONE  OTHER  OWN  RENT  yr_credit  total_acc  target  revol  \\\n",
       "188175     0      0    0     1       25.0       20.0     1.0  0.584   \n",
       "188176     0      0    0     1        9.0       30.0     1.0  0.331   \n",
       "188177     0      0    0     0       13.0       17.0     1.0  0.624   \n",
       "188178     0      0    0     0       12.0       27.0     0.0  0.932   \n",
       "188179     0      0    0     1       10.0       25.0     1.0  0.379   \n",
       "\n",
       "        credit_card  debt_consolidation  ...  SML  TX  UT  VA  WA  WI  10  15  \\\n",
       "188175            0                   1  ...    0   0   0   0   0   0 NaN NaN   \n",
       "188176            0                   0  ...    0   0   0   0   0   0 NaN NaN   \n",
       "188177            0                   0  ...    0   0   0   0   0   0 NaN NaN   \n",
       "188178            0                   0  ...    0   1   0   0   0   0 NaN NaN   \n",
       "188179            1                   0  ...    0   0   0   1   0   0 NaN NaN   \n",
       "\n",
       "        20  30  \n",
       "188175 NaN NaN  \n",
       "188176 NaN NaN  \n",
       "188177 NaN NaN  \n",
       "188178 NaN NaN  \n",
       "188179 NaN NaN  \n",
       "\n",
       "[5 rows x 55 columns]"
      ]
     },
     "execution_count": 34,
     "metadata": {},
     "output_type": "execute_result"
    }
   ],
   "source": [
    "test_error_clean.tail()"
   ]
  },
  {
   "cell_type": "code",
   "execution_count": 35,
   "metadata": {},
   "outputs": [],
   "source": [
    "purpose_f = pd.get_dummies(test_error['purpose'], drop_first=True)\n",
    "home_own_f = pd.get_dummies(test_error['home_ownership'], drop_first=True)\n",
    "test_error['helper_col'] = ~(test_error['addr_state'].isin(LT_list))\n",
    "test_error['state'] = np.where(test_error.helper_col == 1, 'SML', test_error.addr_state)\n",
    "state_f = pd.get_dummies(test_error['state'], drop_first = True)\n",
    "test_error['dti_gp'] = test_error.apply(dti, axis=1)\n",
    "dti_gp_f = pd.get_dummies(test_error['dti_gp'], drop_first=True)\n",
    "test_error['revol'] = test_error['revol_util_dec'].fillna(0)\n",
    "test_error = pd.concat([home_own_f, test_error, purpose_f, state_f, dti_gp_f], axis=1)    \n",
    "test_error = test_error.drop(['home_ownership','addr_state', 'helper_col', 'dti_gp', 'dti', 'state', 'purpose', 'revol_util_dec'], axis=1)"
   ]
  },
  {
   "cell_type": "code",
   "execution_count": 36,
   "metadata": {},
   "outputs": [
    {
     "data": {
      "text/html": [
       "<div>\n",
       "<style scoped>\n",
       "    .dataframe tbody tr th:only-of-type {\n",
       "        vertical-align: middle;\n",
       "    }\n",
       "\n",
       "    .dataframe tbody tr th {\n",
       "        vertical-align: top;\n",
       "    }\n",
       "\n",
       "    .dataframe thead th {\n",
       "        text-align: right;\n",
       "    }\n",
       "</style>\n",
       "<table border=\"1\" class=\"dataframe\">\n",
       "  <thead>\n",
       "    <tr style=\"text-align: right;\">\n",
       "      <th></th>\n",
       "      <th>NONE</th>\n",
       "      <th>OTHER</th>\n",
       "      <th>OWN</th>\n",
       "      <th>RENT</th>\n",
       "      <th>yr_credit</th>\n",
       "      <th>total_acc</th>\n",
       "      <th>target</th>\n",
       "      <th>revol</th>\n",
       "      <th>credit_card</th>\n",
       "      <th>debt_consolidation</th>\n",
       "      <th>...</th>\n",
       "      <th>TX</th>\n",
       "      <th>UT</th>\n",
       "      <th>VA</th>\n",
       "      <th>WA</th>\n",
       "      <th>WI</th>\n",
       "      <th>10</th>\n",
       "      <th>15</th>\n",
       "      <th>20</th>\n",
       "      <th>30</th>\n",
       "      <th>high</th>\n",
       "    </tr>\n",
       "  </thead>\n",
       "  <tbody>\n",
       "    <tr>\n",
       "      <th>188175</th>\n",
       "      <td>0</td>\n",
       "      <td>0</td>\n",
       "      <td>0</td>\n",
       "      <td>1</td>\n",
       "      <td>25.0</td>\n",
       "      <td>20.0</td>\n",
       "      <td>1.0</td>\n",
       "      <td>0.584</td>\n",
       "      <td>0</td>\n",
       "      <td>1</td>\n",
       "      <td>...</td>\n",
       "      <td>0</td>\n",
       "      <td>0</td>\n",
       "      <td>0</td>\n",
       "      <td>0</td>\n",
       "      <td>0</td>\n",
       "      <td>0</td>\n",
       "      <td>0</td>\n",
       "      <td>1</td>\n",
       "      <td>0</td>\n",
       "      <td>0</td>\n",
       "    </tr>\n",
       "    <tr>\n",
       "      <th>188176</th>\n",
       "      <td>0</td>\n",
       "      <td>0</td>\n",
       "      <td>0</td>\n",
       "      <td>1</td>\n",
       "      <td>9.0</td>\n",
       "      <td>30.0</td>\n",
       "      <td>1.0</td>\n",
       "      <td>0.331</td>\n",
       "      <td>0</td>\n",
       "      <td>0</td>\n",
       "      <td>...</td>\n",
       "      <td>0</td>\n",
       "      <td>0</td>\n",
       "      <td>0</td>\n",
       "      <td>0</td>\n",
       "      <td>0</td>\n",
       "      <td>1</td>\n",
       "      <td>0</td>\n",
       "      <td>0</td>\n",
       "      <td>0</td>\n",
       "      <td>0</td>\n",
       "    </tr>\n",
       "    <tr>\n",
       "      <th>188177</th>\n",
       "      <td>0</td>\n",
       "      <td>0</td>\n",
       "      <td>0</td>\n",
       "      <td>0</td>\n",
       "      <td>13.0</td>\n",
       "      <td>17.0</td>\n",
       "      <td>1.0</td>\n",
       "      <td>0.624</td>\n",
       "      <td>0</td>\n",
       "      <td>0</td>\n",
       "      <td>...</td>\n",
       "      <td>0</td>\n",
       "      <td>0</td>\n",
       "      <td>0</td>\n",
       "      <td>0</td>\n",
       "      <td>0</td>\n",
       "      <td>0</td>\n",
       "      <td>0</td>\n",
       "      <td>0</td>\n",
       "      <td>0</td>\n",
       "      <td>0</td>\n",
       "    </tr>\n",
       "    <tr>\n",
       "      <th>188178</th>\n",
       "      <td>0</td>\n",
       "      <td>0</td>\n",
       "      <td>0</td>\n",
       "      <td>0</td>\n",
       "      <td>12.0</td>\n",
       "      <td>27.0</td>\n",
       "      <td>0.0</td>\n",
       "      <td>0.932</td>\n",
       "      <td>0</td>\n",
       "      <td>0</td>\n",
       "      <td>...</td>\n",
       "      <td>1</td>\n",
       "      <td>0</td>\n",
       "      <td>0</td>\n",
       "      <td>0</td>\n",
       "      <td>0</td>\n",
       "      <td>0</td>\n",
       "      <td>1</td>\n",
       "      <td>0</td>\n",
       "      <td>0</td>\n",
       "      <td>0</td>\n",
       "    </tr>\n",
       "    <tr>\n",
       "      <th>188179</th>\n",
       "      <td>0</td>\n",
       "      <td>0</td>\n",
       "      <td>0</td>\n",
       "      <td>1</td>\n",
       "      <td>10.0</td>\n",
       "      <td>25.0</td>\n",
       "      <td>1.0</td>\n",
       "      <td>0.379</td>\n",
       "      <td>1</td>\n",
       "      <td>0</td>\n",
       "      <td>...</td>\n",
       "      <td>0</td>\n",
       "      <td>0</td>\n",
       "      <td>1</td>\n",
       "      <td>0</td>\n",
       "      <td>0</td>\n",
       "      <td>1</td>\n",
       "      <td>0</td>\n",
       "      <td>0</td>\n",
       "      <td>0</td>\n",
       "      <td>0</td>\n",
       "    </tr>\n",
       "  </tbody>\n",
       "</table>\n",
       "<p>5 rows × 56 columns</p>\n",
       "</div>"
      ],
      "text/plain": [
       "        NONE  OTHER  OWN  RENT  yr_credit  total_acc  target  revol  \\\n",
       "188175     0      0    0     1       25.0       20.0     1.0  0.584   \n",
       "188176     0      0    0     1        9.0       30.0     1.0  0.331   \n",
       "188177     0      0    0     0       13.0       17.0     1.0  0.624   \n",
       "188178     0      0    0     0       12.0       27.0     0.0  0.932   \n",
       "188179     0      0    0     1       10.0       25.0     1.0  0.379   \n",
       "\n",
       "        credit_card  debt_consolidation  ...  TX  UT  VA  WA  WI  10  15  20  \\\n",
       "188175            0                   1  ...   0   0   0   0   0   0   0   1   \n",
       "188176            0                   0  ...   0   0   0   0   0   1   0   0   \n",
       "188177            0                   0  ...   0   0   0   0   0   0   0   0   \n",
       "188178            0                   0  ...   1   0   0   0   0   0   1   0   \n",
       "188179            1                   0  ...   0   0   1   0   0   1   0   0   \n",
       "\n",
       "        30  high  \n",
       "188175   0     0  \n",
       "188176   0     0  \n",
       "188177   0     0  \n",
       "188178   0     0  \n",
       "188179   0     0  \n",
       "\n",
       "[5 rows x 56 columns]"
      ]
     },
     "execution_count": 36,
     "metadata": {},
     "output_type": "execute_result"
    }
   ],
   "source": [
    "test_error.tail()"
   ]
  },
  {
   "cell_type": "code",
   "execution_count": 37,
   "metadata": {},
   "outputs": [
    {
     "name": "stdout",
     "output_type": "stream",
     "text": [
      "(188180, 54)\n",
      "(188180,)\n"
     ]
    }
   ],
   "source": [
    "# obatain target and features from the error test set\n",
    "features_test = test_error.drop(['target','high'], axis=1).values\n",
    "target_test = test_error.target.values\n",
    "\n",
    "print(features_test.shape)\n",
    "print(target_test.shape)"
   ]
  },
  {
   "cell_type": "markdown",
   "metadata": {},
   "source": [
    "**Apply Logistic Regression with C=0.001**"
   ]
  },
  {
   "cell_type": "code",
   "execution_count": 38,
   "metadata": {},
   "outputs": [
    {
     "name": "stdout",
     "output_type": "stream",
     "text": [
      "Final F1 score for test data 0.9144\n"
     ]
    }
   ],
   "source": [
    "y_pred_test = gridsearch_lf.predict(features_test)\n",
    "print('Final F1 score for test data {:.4}'.format(f1_score(target_test, y_pred_test)))"
   ]
  },
  {
   "cell_type": "markdown",
   "metadata": {},
   "source": [
    "**Baseline F1 score**"
   ]
  },
  {
   "cell_type": "code",
   "execution_count": 41,
   "metadata": {},
   "outputs": [
    {
     "name": "stdout",
     "output_type": "stream",
     "text": [
      "Baseline F1 score 0.9144\n"
     ]
    }
   ],
   "source": [
    "print('Baseline F1 score {:.4}'.format(f1_score(target_test, np.ones(len(target_test)))))"
   ]
  },
  {
   "cell_type": "markdown",
   "metadata": {},
   "source": [
    "The score remain drop by 0.006. The model performance is relatively consistence when applying to new data."
   ]
  },
  {
   "cell_type": "markdown",
   "metadata": {},
   "source": [
    "### Conclusion\n",
    "\n",
    "- Lending Club has its own set of credit underwriting policy. Loan requests that didn't meet the policy were declined. The policy directly contributed to F1 score of 0.9206.\n",
    "- Applying Logistic Regression and Random Forest do not result in higher F1 score. Further actions are needed and are listed below."
   ]
  },
  {
   "cell_type": "markdown",
   "metadata": {},
   "source": [
    "### Further Improvements\n",
    "\n",
    "- Cross validate the models with more recent years' data to see if Logistic Regression is still the most recommended model.\n",
    "- Access 1-2 more classification models to have a broader measurement for model performance. I would consider Naive Bayes and Support Vector Machines, for example.\n",
    "- During features engineering stage, add in clustering to capture potential patterns that were not captured by looking at one feature at a time\n",
    "- Run correlation test across features to confirm that features are independent of each other\n",
    "- Adding the declined loan data from Lending Club to the dataset. This balances out the sample of loans being paid off versus default. We can also see if Lending Club credit underwriting policy denied loans that would have been good loans that will be paid off."
   ]
  }
 ],
 "metadata": {
  "kernelspec": {
   "display_name": "Python 3",
   "language": "python",
   "name": "python3"
  },
  "language_info": {
   "codemirror_mode": {
    "name": "ipython",
    "version": 3
   },
   "file_extension": ".py",
   "mimetype": "text/x-python",
   "name": "python",
   "nbconvert_exporter": "python",
   "pygments_lexer": "ipython3",
   "version": "3.7.3"
  }
 },
 "nbformat": 4,
 "nbformat_minor": 2
}
