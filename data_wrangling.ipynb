{
 "cells": [
  {
   "cell_type": "code",
   "execution_count": 1,
   "metadata": {},
   "outputs": [],
   "source": [
    "import pandas as pd\n",
    "import numpy as np\n",
    "import datetime as dt\n",
    "pd.options.display.max_columns = None\n",
    "pd.options.display.max_rows=None"
   ]
  },
  {
   "cell_type": "code",
   "execution_count": null,
   "metadata": {},
   "outputs": [],
   "source": [
    "lend = pd.read_csv('data/LoanStats3a.csv', header=1, low_memory=False)"
   ]
  },
  {
   "cell_type": "markdown",
   "metadata": {},
   "source": [
    "#### Understanding data structure, checking shape and data type"
   ]
  },
  {
   "cell_type": "code",
   "execution_count": null,
   "metadata": {},
   "outputs": [],
   "source": [
    "print(lend.shape)\n",
    "lend.info()"
   ]
  },
  {
   "cell_type": "markdown",
   "metadata": {},
   "source": [
    "There are 144 columns, 115 of those are floats data type\n",
    "\n",
    "We will look at float data type columns first. From browsing the columns, it looks like they are information on describing the loans itself. Bear in mind that the problem is to predict whether the applicants should receive the loans, the details about the loans (such as terms, interest rates, hardship_length, etc.) are unknown upfront. Those columns will most likely to be ignored in the machine learning analysis."
   ]
  },
  {
   "cell_type": "code",
   "execution_count": null,
   "metadata": {},
   "outputs": [],
   "source": [
    "lend.select_dtypes(include='float').head()"
   ]
  },
  {
   "cell_type": "markdown",
   "metadata": {},
   "source": [
    "Reviewing the 29 object columns. Some of the columns actually have date time or percentage values, but panda cannot recognize them in the initial load. Those columns data will need further cleansing"
   ]
  },
  {
   "cell_type": "code",
   "execution_count": null,
   "metadata": {},
   "outputs": [],
   "source": [
    "lend.select_dtypes(exclude='float').head()"
   ]
  },
  {
   "cell_type": "markdown",
   "metadata": {},
   "source": [
    "#### Keep only columns that few or no missing data. \n",
    "\n",
    "We will use isnull and sum function to check missing for each columns. Note that we have a total of 42K row of data. The result below indicates that some columns almost have no data at all, and wouldn't be useful. "
   ]
  },
  {
   "cell_type": "code",
   "execution_count": null,
   "metadata": {},
   "outputs": [],
   "source": [
    "lend.isnull().sum()"
   ]
  },
  {
   "cell_type": "markdown",
   "metadata": {},
   "source": [
    "By scanning the missing records range, I will make the decision to drop columns that have >40K missing records."
   ]
  },
  {
   "cell_type": "code",
   "execution_count": null,
   "metadata": {},
   "outputs": [],
   "source": [
    "lend_1 = lend.dropna(axis=1, how='all', thresh=40000)\n",
    "lend_1.shape"
   ]
  },
  {
   "cell_type": "markdown",
   "metadata": {},
   "source": [
    "It appears to be 3 missing row in the csv, we will drop those as well."
   ]
  },
  {
   "cell_type": "code",
   "execution_count": null,
   "metadata": {},
   "outputs": [],
   "source": [
    "lend_2 = lend_1.dropna(subset=['loan_amnt'])\n",
    "lend_2.shape"
   ]
  },
  {
   "cell_type": "markdown",
   "metadata": {},
   "source": [
    "For the float type columns, we will replace missing values are equivalent to 0"
   ]
  },
  {
   "cell_type": "code",
   "execution_count": null,
   "metadata": {},
   "outputs": [],
   "source": [
    "# Suppress output since it will take forever for the display\n",
    "lend_2.select_dtypes(include='float').fillna(0);"
   ]
  },
  {
   "cell_type": "markdown",
   "metadata": {},
   "source": [
    "For the object columns, further data type conversion and filling missing values will be need. We will focus on issue_d, emp_length, earliest_cr_line, revol_util and title. Other columns are either unknown variables for machine learning or no data type conversions are needed."
   ]
  },
  {
   "cell_type": "code",
   "execution_count": null,
   "metadata": {},
   "outputs": [],
   "source": [
    "lend_2.select_dtypes(exclude='float').isnull().sum()"
   ]
  },
  {
   "cell_type": "markdown",
   "metadata": {},
   "source": [
    "#### Loan issues date\n",
    "- Convert into datetime value"
   ]
  },
  {
   "cell_type": "code",
   "execution_count": null,
   "metadata": {},
   "outputs": [],
   "source": [
    "#use assign function to avoid security type warining\n",
    "lend_2 = lend_2.assign(loan_start_d=pd.to_datetime(lend_2.issue_d, format='%b-%Y'))"
   ]
  },
  {
   "cell_type": "markdown",
   "metadata": {},
   "source": [
    "#### Employment duration\n",
    "- convert from text to numeric value. \n",
    "- clean up na value, assume <1 year if info is not provided (currently unemployment)"
   ]
  },
  {
   "cell_type": "code",
   "execution_count": null,
   "metadata": {},
   "outputs": [],
   "source": [
    "lend_2['yr_emp'] = lend_2['emp_length'].str[0:2].replace('< ',0).astype('float')"
   ]
  },
  {
   "cell_type": "markdown",
   "metadata": {},
   "source": [
    "#### Credit History\n",
    "- Convert earliest_cr_line into from text to datetime values\n",
    "- Replace missing values with zero\n",
    "- Extract year and convert to categorical values to have higher level grouping for this features"
   ]
  },
  {
   "cell_type": "code",
   "execution_count": null,
   "metadata": {},
   "outputs": [],
   "source": [
    "lend_2.earliest_cr_line = pd.to_datetime(lend_2.earliest_cr_line, format='%b-%Y')\n",
    "lend_2['yr_credit']= (2011-lend_2.earliest_cr_line.dt.year).fillna(0)"
   ]
  },
  {
   "cell_type": "markdown",
   "metadata": {},
   "source": [
    "#### Credit line % usage\n",
    "- Convert from string to decimal place"
   ]
  },
  {
   "cell_type": "code",
   "execution_count": null,
   "metadata": {},
   "outputs": [],
   "source": [
    "lend_2['revol_util_dec'] = lend_2['revol_util'].str.replace(r'%',r'0').astype('float')/100"
   ]
  },
  {
   "cell_type": "markdown",
   "metadata": {},
   "source": [
    "#### Identify the category values of loan_status, which will serve as target for this analysis"
   ]
  },
  {
   "cell_type": "code",
   "execution_count": null,
   "metadata": {},
   "outputs": [],
   "source": [
    "lend_2.loan_status.value_counts()"
   ]
  },
  {
   "cell_type": "markdown",
   "metadata": {},
   "source": [
    "#### Convert text value feature into numerics for model training purposes. Create a dictionary to convert loan status into 0 (default) or 1 (Paid)\n",
    "\n",
    "Per research through discussion forum, \"Dose not meet the credit policy' are loans that had issued before Lending Club update credit policy. For the purpose of this study, we will continue to treat them as \"Fully Paid\" or \"Charged Off', regardless of credit policy compliance."
   ]
  },
  {
   "cell_type": "code",
   "execution_count": null,
   "metadata": {},
   "outputs": [],
   "source": [
    "loan_dict = {'Fully Paid': 1, 'Charged Off': 0, 'Does not meet the credit policy. Status:Fully Paid': 1, 'Does not meet the credit policy. Status:Charged Off': 0 }"
   ]
  },
  {
   "cell_type": "markdown",
   "metadata": {},
   "source": [
    "#### Create a target column by mapping loan status to dictionary,"
   ]
  },
  {
   "cell_type": "code",
   "execution_count": null,
   "metadata": {},
   "outputs": [],
   "source": [
    "#use assign function to avoid security type warining\n",
    "lend_2 = lend_2.assign(target=lend_2.loan_status.map(loan_dict))"
   ]
  },
  {
   "cell_type": "markdown",
   "metadata": {},
   "source": [
    "#### Identify potential features columns. \n",
    "\n",
    "Next step is to determine what features may have positive or negative correlation with % of loans being repay against total, which be done through visualization.\n",
    "\n",
    "Save cleaned data set into a csv file for quicker access."
   ]
  },
  {
   "cell_type": "code",
   "execution_count": null,
   "metadata": {},
   "outputs": [],
   "source": [
    "lend_2.to_csv('data/lending_clean.csv')"
   ]
  }
 ],
 "metadata": {
  "anaconda-cloud": {},
  "kernelspec": {
   "display_name": "Python 3",
   "language": "python",
   "name": "python3"
  },
  "language_info": {
   "codemirror_mode": {
    "name": "ipython",
    "version": 3
   },
   "file_extension": ".py",
   "mimetype": "text/x-python",
   "name": "python",
   "nbconvert_exporter": "python",
   "pygments_lexer": "ipython3",
   "version": "3.6.5"
  }
 },
 "nbformat": 4,
 "nbformat_minor": 2
}
